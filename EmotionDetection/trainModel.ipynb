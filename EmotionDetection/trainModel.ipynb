{
 "cells": [
  {
   "cell_type": "code",
   "execution_count": 8,
   "id": "a1b49049-9f19-4ab4-9de8-ea318efbcaf3",
   "metadata": {},
   "outputs": [],
   "source": [
    "from keras.utils import to_categorical\n",
    "from keras.preprocessing.image import load_img\n",
    "from keras.models import Sequential\n",
    "from keras.layers import Dense, Conv2D, Dropout, Flatten, MaxPooling2D,InputLayer\n",
    "import os\n",
    "import pandas as pd\n",
    "import numpy as np\n",
    "from tqdm.notebook import tqdm\n",
    "from sklearn.preprocessing import LabelEncoder\n",
    "from keras import Input\n",
    "from tensorflow.estimator import Estimator\n",
    "from sklearn.utils.class_weight import compute_class_weight"
   ]
  },
  {
   "cell_type": "code",
   "execution_count": 9,
   "id": "9da5b005-c6dd-4ecd-be50-b0578135468c",
   "metadata": {},
   "outputs": [],
   "source": [
    "TRAIN_DIR = 'images/train'\n",
    "TEST_DIR = 'images/test'"
   ]
  },
  {
   "cell_type": "code",
   "execution_count": 10,
   "id": "b0d8b432-ecdd-4182-9dd3-c27dd4553eb7",
   "metadata": {},
   "outputs": [],
   "source": [
    "def createdataframe(dir):\n",
    "    image_paths = []\n",
    "    labels = []\n",
    "    for label in os.listdir(dir):\n",
    "        for imagename in os.listdir(os.path.join(dir,label)):\n",
    "            image_paths.append(os.path.join(dir,label,imagename))\n",
    "            labels.append(label)\n",
    "        print(label, 'completed')\n",
    "    return image_paths,labels"
   ]
  },
  {
   "cell_type": "code",
   "execution_count": 11,
   "id": "397a5bbd-9394-4dcb-ba9e-2ccc02bf1700",
   "metadata": {},
   "outputs": [
    {
     "name": "stdout",
     "output_type": "stream",
     "text": [
      "angry completed\n",
      "disgusted completed\n",
      "fearful completed\n",
      "happy completed\n",
      "neutral completed\n",
      "sad completed\n",
      "surprised completed\n"
     ]
    }
   ],
   "source": [
    "train = pd.DataFrame();\n",
    "train['image'], train['label'] = createdataframe(TRAIN_DIR)"
   ]
  },
  {
   "cell_type": "code",
   "execution_count": 12,
   "id": "1185fb55-3dff-45b3-a086-ebcaf21075e7",
   "metadata": {},
   "outputs": [
    {
     "name": "stdout",
     "output_type": "stream",
     "text": [
      "                                  image      label\n",
      "0            images/train\\angry\\im0.png      angry\n",
      "1            images/train\\angry\\im1.png      angry\n",
      "2           images/train\\angry\\im10.png      angry\n",
      "3          images/train\\angry\\im100.png      angry\n",
      "4         images/train\\angry\\im1000.png      angry\n",
      "...                                 ...        ...\n",
      "28704  images/train\\surprised\\im995.png  surprised\n",
      "28705  images/train\\surprised\\im996.png  surprised\n",
      "28706  images/train\\surprised\\im997.png  surprised\n",
      "28707  images/train\\surprised\\im998.png  surprised\n",
      "28708  images/train\\surprised\\im999.png  surprised\n",
      "\n",
      "[28709 rows x 2 columns]\n"
     ]
    }
   ],
   "source": [
    "print(train)"
   ]
  },
  {
   "cell_type": "code",
   "execution_count": 13,
   "id": "76067f12-d70a-456f-ae1d-9a5d52e242eb",
   "metadata": {},
   "outputs": [
    {
     "name": "stdout",
     "output_type": "stream",
     "text": [
      "angry completed\n",
      "disgusted completed\n",
      "fearful completed\n",
      "happy completed\n",
      "neutral completed\n",
      "sad completed\n",
      "surprised completed\n"
     ]
    }
   ],
   "source": [
    "test = pd.DataFrame();\n",
    "test['image'], test['label'] = createdataframe(TEST_DIR)"
   ]
  },
  {
   "cell_type": "code",
   "execution_count": 14,
   "id": "cda942ea-2dc5-4f8c-bc78-961c7cd33b14",
   "metadata": {},
   "outputs": [
    {
     "name": "stdout",
     "output_type": "stream",
     "text": [
      "                               image      label\n",
      "0          images/test\\angry\\im0.png      angry\n",
      "1          images/test\\angry\\im1.png      angry\n",
      "2         images/test\\angry\\im10.png      angry\n",
      "3        images/test\\angry\\im100.png      angry\n",
      "4        images/test\\angry\\im101.png      angry\n",
      "...                              ...        ...\n",
      "7173  images/test\\surprised\\im95.png  surprised\n",
      "7174  images/test\\surprised\\im96.png  surprised\n",
      "7175  images/test\\surprised\\im97.png  surprised\n",
      "7176  images/test\\surprised\\im98.png  surprised\n",
      "7177  images/test\\surprised\\im99.png  surprised\n",
      "\n",
      "[7178 rows x 2 columns]\n",
      "0            images/test\\angry\\im0.png\n",
      "1            images/test\\angry\\im1.png\n",
      "2           images/test\\angry\\im10.png\n",
      "3          images/test\\angry\\im100.png\n",
      "4          images/test\\angry\\im101.png\n",
      "                     ...              \n",
      "7173    images/test\\surprised\\im95.png\n",
      "7174    images/test\\surprised\\im96.png\n",
      "7175    images/test\\surprised\\im97.png\n",
      "7176    images/test\\surprised\\im98.png\n",
      "7177    images/test\\surprised\\im99.png\n",
      "Name: image, Length: 7178, dtype: object\n"
     ]
    }
   ],
   "source": [
    "print(test)\n",
    "print(test['image'])"
   ]
  },
  {
   "cell_type": "code",
   "execution_count": 15,
   "id": "0e11c7a1-ccf4-4558-b3b9-9892cac5ddc5",
   "metadata": {},
   "outputs": [],
   "source": [
    "def extract_features(images):\n",
    "    valid_extensions = {'.jpg', '.jpeg', '.png', '.bmp', '.tiff'}  \n",
    "    features = []\n",
    "\n",
    "    for image_path in tqdm(images):\n",
    "        image_path = os.path.normpath(image_path)\n",
    "\n",
    "        # Skip non-image files\n",
    "        if not os.path.splitext(image_path)[1].lower() in valid_extensions:\n",
    "            print(f\"Skipping non-image file: {image_path}\")\n",
    "            continue\n",
    "\n",
    "        try:\n",
    "            img = load_img(image_path, color_mode='grayscale', target_size=(48, 48))\n",
    "            img = np.array(img)\n",
    "            features.append(img)\n",
    "        except Exception as e:\n",
    "            print(f\"Error loading {image_path}: {e}\")\n",
    "            continue\n",
    "\n",
    "    features = np.array(features)\n",
    "    features = features.reshape(len(features), 48, 48, 1)\n",
    "    return features"
   ]
  },
  {
   "cell_type": "code",
   "execution_count": 16,
   "id": "a80137a4",
   "metadata": {},
   "outputs": [
    {
     "name": "stdout",
     "output_type": "stream",
     "text": [
      "0       images/train\\angry\\im0.png\n",
      "1       images/train\\angry\\im1.png\n",
      "2      images/train\\angry\\im10.png\n",
      "3     images/train\\angry\\im100.png\n",
      "4    images/train\\angry\\im1000.png\n",
      "Name: image, dtype: object\n"
     ]
    }
   ],
   "source": [
    "print(train['image'].head())\n"
   ]
  },
  {
   "cell_type": "code",
   "execution_count": 96,
   "id": "61697c90-ff0f-4f4b-be5d-51ce9fc5a54f",
   "metadata": {
    "scrolled": true
   },
   "outputs": [
    {
     "data": {
      "application/vnd.jupyter.widget-view+json": {
       "model_id": "2247d83e56d34bea8685511cf7962984",
       "version_major": 2,
       "version_minor": 0
      },
      "text/plain": [
       "  0%|          | 0/28709 [00:00<?, ?it/s]"
      ]
     },
     "metadata": {},
     "output_type": "display_data"
    }
   ],
   "source": [
    "train_features = extract_features(train['image'])"
   ]
  },
  {
   "cell_type": "code",
   "execution_count": 97,
   "id": "62ce57df",
   "metadata": {},
   "outputs": [
    {
     "data": {
      "application/vnd.jupyter.widget-view+json": {
       "model_id": "985b382aaf8d4702a08427554624541e",
       "version_major": 2,
       "version_minor": 0
      },
      "text/plain": [
       "  0%|          | 0/7178 [00:00<?, ?it/s]"
      ]
     },
     "metadata": {},
     "output_type": "display_data"
    }
   ],
   "source": [
    "test_features = extract_features(test['image'])"
   ]
  },
  {
   "cell_type": "code",
   "execution_count": 98,
   "id": "4c56834b-ae57-44ac-9baf-cf119b36fa20",
   "metadata": {},
   "outputs": [],
   "source": [
    "np.save('train_features.npy', train_features)\n",
    "np.save('test_features.npy', test_features)"
   ]
  },
  {
   "cell_type": "code",
   "execution_count": 17,
   "id": "919ded6d-e1af-48a0-afb6-9e4e3b812b80",
   "metadata": {},
   "outputs": [],
   "source": [
    "train_features = np.load('train_features.npy')\n",
    "test_features = np.load('test_features.npy')"
   ]
  },
  {
   "cell_type": "code",
   "execution_count": 18,
   "id": "3ff83780-7b25-42dc-bce8-a6d916aa0841",
   "metadata": {},
   "outputs": [],
   "source": [
    "x_train = train_features/255.0\n",
    "x_test = test_features/255.0"
   ]
  },
  {
   "cell_type": "code",
   "execution_count": 19,
   "id": "501d81b8-dd00-474c-a49a-e0b72a78355c",
   "metadata": {},
   "outputs": [
    {
     "data": {
      "text/plain": [
       "LabelEncoder()"
      ]
     },
     "execution_count": 19,
     "metadata": {},
     "output_type": "execute_result"
    }
   ],
   "source": [
    "le = LabelEncoder()\n",
    "le.fit(train['label'])"
   ]
  },
  {
   "cell_type": "code",
   "execution_count": 20,
   "id": "191cb4ed-5df8-442e-a538-7c5fece19343",
   "metadata": {},
   "outputs": [],
   "source": [
    "y_train = le.transform(train['label'])\n",
    "y_test = le.transform(test['label'])"
   ]
  },
  {
   "cell_type": "code",
   "execution_count": 21,
   "id": "c44d26dc",
   "metadata": {},
   "outputs": [],
   "source": [
    "class_weights = compute_class_weight(\n",
    "    class_weight='balanced',\n",
    "    classes=np.unique(y_train),\n",
    "    y=y_train\n",
    ")\n",
    "\n",
    "class_weights_dict = dict(enumerate(class_weights))"
   ]
  },
  {
   "cell_type": "code",
   "execution_count": 22,
   "id": "384180c0-6f14-4a4d-8455-7c0cb859b123",
   "metadata": {},
   "outputs": [],
   "source": [
    "y_train = to_categorical(y_train, num_classes=7)\n",
    "y_test = to_categorical(y_test, num_classes=7)"
   ]
  },
  {
   "cell_type": "code",
   "execution_count": 23,
   "id": "e62446a2-b4e1-4422-96c4-067dfa209442",
   "metadata": {},
   "outputs": [],
   "source": [
    "# convolutional layers\n",
    "\n",
    "model = Sequential()\n",
    "model.add(InputLayer(input_shape=(48, 48, 1)))\n",
    "model.add(Conv2D(128, kernel_size=(3,3), activation='relu'))\n",
    "\n",
    "model.add(MaxPooling2D(pool_size=(2,2)))\n",
    "model.add(Dropout(0.4))\n",
    "\n",
    "model.add(Conv2D(256, kernel_size=(3,3), activation='relu'))\n",
    "model.add(MaxPooling2D(pool_size=(2,2)))\n",
    "model.add(Dropout(0.4))\n",
    "\n",
    "model.add(Conv2D(512, kernel_size=(3,3), activation='relu'))\n",
    "model.add(MaxPooling2D(pool_size=(2,2)))\n",
    "model.add(Dropout(0.4))\n",
    "\n",
    "model.add(Conv2D(512, kernel_size=(3,3), activation='relu'))\n",
    "model.add(MaxPooling2D(pool_size=(2,2)))\n",
    "model.add(Dropout(0.4))\n",
    "\n",
    "model.add(Flatten())\n",
    "# fully connected layers\n",
    "model.add(Dense(512, activation='relu'))\n",
    "model.add(Dropout(0.4))\n",
    "model.add(Dense(256, activation='relu'))\n",
    "model.add(Dropout(0.3))\n",
    "# output layer\n",
    "model.add(Dense(7, activation='softmax'))"
   ]
  },
  {
   "cell_type": "code",
   "execution_count": null,
   "id": "2b3e1135-f679-44a2-a104-996eb5160321",
   "metadata": {},
   "outputs": [],
   "source": [
    "model.compile(optimizer = 'adam', loss = 'categorical_crossentropy', metrics = ['accuracy'] )"
   ]
  },
  {
   "cell_type": "code",
   "execution_count": null,
   "id": "b27c0f01-09f7-4e25-8023-710d86446c6e",
   "metadata": {},
   "outputs": [
    {
     "name": "stdout",
     "output_type": "stream",
     "text": [
      "Train on 28709 samples, validate on 7178 samples\n",
      "Epoch 1/100\n",
      "28709/28709 [==============================] - 2235s 78ms/step - loss: 2.1758 - accuracy: 0.2313 - val_loss: 1.8188 - val_accuracy: 0.2471\n",
      "Epoch 2/100\n",
      "28709/28709 [==============================] - 17s 579us/step - loss: 1.8188 - accuracy: 0.2492 - val_loss: 1.8146 - val_accuracy: 0.2471\n",
      "Epoch 3/100\n",
      "28709/28709 [==============================] - 16s 567us/step - loss: 1.8144 - accuracy: 0.2505 - val_loss: 1.8152 - val_accuracy: 0.2471\n",
      "Epoch 4/100\n",
      "28709/28709 [==============================] - 16s 564us/step - loss: 1.8126 - accuracy: 0.2512 - val_loss: 1.8133 - val_accuracy: 0.2471\n",
      "Epoch 5/100\n",
      "28709/28709 [==============================] - 16s 564us/step - loss: 1.8115 - accuracy: 0.2513 - val_loss: 1.8133 - val_accuracy: 0.2471\n",
      "Epoch 6/100\n",
      "28709/28709 [==============================] - 16s 562us/step - loss: 1.8115 - accuracy: 0.2513 - val_loss: 1.8137 - val_accuracy: 0.2471\n",
      "Epoch 7/100\n",
      "28709/28709 [==============================] - 17s 588us/step - loss: 1.8117 - accuracy: 0.2513 - val_loss: 1.8134 - val_accuracy: 0.2471\n",
      "Epoch 8/100\n",
      "28709/28709 [==============================] - 16s 574us/step - loss: 1.8116 - accuracy: 0.2513 - val_loss: 1.8133 - val_accuracy: 0.2471\n",
      "Epoch 9/100\n",
      "28709/28709 [==============================] - 17s 576us/step - loss: 1.8118 - accuracy: 0.2513 - val_loss: 1.8133 - val_accuracy: 0.2471\n",
      "Epoch 10/100\n",
      "28709/28709 [==============================] - 18s 628us/step - loss: 1.8114 - accuracy: 0.2513 - val_loss: 1.8137 - val_accuracy: 0.2471\n",
      "Epoch 11/100\n",
      "28709/28709 [==============================] - 23s 798us/step - loss: 1.8108 - accuracy: 0.2513 - val_loss: 1.8138 - val_accuracy: 0.2471\n",
      "Epoch 12/100\n",
      "28709/28709 [==============================] - 30s 1ms/step - loss: 1.8113 - accuracy: 0.2513 - val_loss: 1.8142 - val_accuracy: 0.2471\n",
      "Epoch 13/100\n",
      "28709/28709 [==============================] - 18s 622us/step - loss: 1.8111 - accuracy: 0.2513 - val_loss: 1.8135 - val_accuracy: 0.2471\n",
      "Epoch 14/100\n",
      "28709/28709 [==============================] - 16s 572us/step - loss: 1.8110 - accuracy: 0.2513 - val_loss: 1.8167 - val_accuracy: 0.2471\n",
      "Epoch 15/100\n",
      "28709/28709 [==============================] - 16s 569us/step - loss: 1.8112 - accuracy: 0.2513 - val_loss: 1.8135 - val_accuracy: 0.2471\n",
      "Epoch 16/100\n",
      "28709/28709 [==============================] - 18s 641us/step - loss: 1.8109 - accuracy: 0.2513 - val_loss: 1.8135 - val_accuracy: 0.2471\n",
      "Epoch 17/100\n",
      "28709/28709 [==============================] - 17s 609us/step - loss: 1.8107 - accuracy: 0.2513 - val_loss: 1.8138 - val_accuracy: 0.2471\n",
      "Epoch 18/100\n",
      "28709/28709 [==============================] - 18s 639us/step - loss: 1.8105 - accuracy: 0.2513 - val_loss: 1.8142 - val_accuracy: 0.2471\n",
      "Epoch 19/100\n",
      "28709/28709 [==============================] - 18s 624us/step - loss: 1.8109 - accuracy: 0.2513 - val_loss: 1.8131 - val_accuracy: 0.2471\n",
      "Epoch 20/100\n",
      "28709/28709 [==============================] - 18s 621us/step - loss: 1.8111 - accuracy: 0.2513 - val_loss: 1.8145 - val_accuracy: 0.2471\n",
      "Epoch 21/100\n",
      "28709/28709 [==============================] - 18s 624us/step - loss: 1.8109 - accuracy: 0.2513 - val_loss: 1.8136 - val_accuracy: 0.2471\n",
      "Epoch 22/100\n",
      "28709/28709 [==============================] - 18s 617us/step - loss: 1.8111 - accuracy: 0.2513 - val_loss: 1.8130 - val_accuracy: 0.2471\n",
      "Epoch 23/100\n",
      "28709/28709 [==============================] - 18s 638us/step - loss: 1.8109 - accuracy: 0.2513 - val_loss: 1.8135 - val_accuracy: 0.2471\n",
      "Epoch 24/100\n",
      "28709/28709 [==============================] - 18s 639us/step - loss: 1.8103 - accuracy: 0.2513 - val_loss: 1.8087 - val_accuracy: 0.2471\n",
      "Epoch 25/100\n",
      "28709/28709 [==============================] - 18s 628us/step - loss: 1.8107 - accuracy: 0.2513 - val_loss: 1.8135 - val_accuracy: 0.2471\n",
      "Epoch 26/100\n",
      "28709/28709 [==============================] - 18s 637us/step - loss: 1.8111 - accuracy: 0.2513 - val_loss: 1.8132 - val_accuracy: 0.2471\n",
      "Epoch 27/100\n",
      "28709/28709 [==============================] - 18s 618us/step - loss: 1.8107 - accuracy: 0.2513 - val_loss: 1.8131 - val_accuracy: 0.2471\n",
      "Epoch 28/100\n",
      "28709/28709 [==============================] - 18s 624us/step - loss: 1.8106 - accuracy: 0.2513 - val_loss: 1.8132 - val_accuracy: 0.2471\n",
      "Epoch 29/100\n",
      "28709/28709 [==============================] - 18s 619us/step - loss: 1.8106 - accuracy: 0.2513 - val_loss: 1.8306 - val_accuracy: 0.2471\n",
      "Epoch 30/100\n",
      "28709/28709 [==============================] - 18s 634us/step - loss: 1.8108 - accuracy: 0.2513 - val_loss: 1.8137 - val_accuracy: 0.2471\n",
      "Epoch 31/100\n",
      "28709/28709 [==============================] - 18s 626us/step - loss: 1.8106 - accuracy: 0.2513 - val_loss: 1.8133 - val_accuracy: 0.2471\n",
      "Epoch 32/100\n",
      "28709/28709 [==============================] - 18s 616us/step - loss: 1.8108 - accuracy: 0.2513 - val_loss: 1.8135 - val_accuracy: 0.2471\n",
      "Epoch 33/100\n",
      "28709/28709 [==============================] - 18s 622us/step - loss: 1.8107 - accuracy: 0.2513 - val_loss: 1.8132 - val_accuracy: 0.2471\n",
      "Epoch 34/100\n",
      "28709/28709 [==============================] - 18s 616us/step - loss: 1.8101 - accuracy: 0.2513 - val_loss: 1.8132 - val_accuracy: 0.2471\n",
      "Epoch 35/100\n",
      "28709/28709 [==============================] - 18s 615us/step - loss: 1.8105 - accuracy: 0.2513 - val_loss: 1.8147 - val_accuracy: 0.2471\n",
      "Epoch 36/100\n",
      "28709/28709 [==============================] - 18s 617us/step - loss: 1.8106 - accuracy: 0.2513 - val_loss: 1.8139 - val_accuracy: 0.2471\n",
      "Epoch 37/100\n",
      "28709/28709 [==============================] - 19s 667us/step - loss: 1.8105 - accuracy: 0.2513 - val_loss: 1.8139 - val_accuracy: 0.2471\n",
      "Epoch 38/100\n",
      "28709/28709 [==============================] - 18s 624us/step - loss: 1.8106 - accuracy: 0.2513 - val_loss: 1.8139 - val_accuracy: 0.2471\n",
      "Epoch 39/100\n",
      "28709/28709 [==============================] - 18s 621us/step - loss: 1.8104 - accuracy: 0.2513 - val_loss: 1.8136 - val_accuracy: 0.2471\n",
      "Epoch 40/100\n",
      "28709/28709 [==============================] - 18s 629us/step - loss: 1.8104 - accuracy: 0.2513 - val_loss: 1.8144 - val_accuracy: 0.2471\n",
      "Epoch 41/100\n",
      "28709/28709 [==============================] - 18s 618us/step - loss: 1.8102 - accuracy: 0.2513 - val_loss: 1.8141 - val_accuracy: 0.2471\n",
      "Epoch 42/100\n",
      "28709/28709 [==============================] - 18s 641us/step - loss: 1.8105 - accuracy: 0.2513 - val_loss: 1.8141 - val_accuracy: 0.2471\n",
      "Epoch 43/100\n",
      "28709/28709 [==============================] - 19s 664us/step - loss: 1.8104 - accuracy: 0.2513 - val_loss: 1.8142 - val_accuracy: 0.2471\n",
      "Epoch 44/100\n",
      "28709/28709 [==============================] - 19s 653us/step - loss: 1.8105 - accuracy: 0.2513 - val_loss: 1.8144 - val_accuracy: 0.2471\n",
      "Epoch 45/100\n",
      "28709/28709 [==============================] - 17s 583us/step - loss: 1.8107 - accuracy: 0.2513 - val_loss: 1.8138 - val_accuracy: 0.2471\n",
      "Epoch 46/100\n",
      "28709/28709 [==============================] - 17s 598us/step - loss: 1.8104 - accuracy: 0.2513 - val_loss: 1.8141 - val_accuracy: 0.2471\n",
      "Epoch 47/100\n",
      "28709/28709 [==============================] - 18s 610us/step - loss: 1.8103 - accuracy: 0.2513 - val_loss: 1.8138 - val_accuracy: 0.2471\n",
      "Epoch 48/100\n",
      "28709/28709 [==============================] - 21s 729us/step - loss: 1.8100 - accuracy: 0.2513 - val_loss: 1.8244 - val_accuracy: 0.2471\n",
      "Epoch 49/100\n",
      "28709/28709 [==============================] - 18s 626us/step - loss: 1.8103 - accuracy: 0.2513 - val_loss: 1.8193 - val_accuracy: 0.2471\n",
      "Epoch 50/100\n",
      "28709/28709 [==============================] - 18s 639us/step - loss: 1.8104 - accuracy: 0.2513 - val_loss: 1.8139 - val_accuracy: 0.2471\n",
      "Epoch 51/100\n",
      "28709/28709 [==============================] - 17s 602us/step - loss: 1.8103 - accuracy: 0.2513 - val_loss: 1.8143 - val_accuracy: 0.2471\n",
      "Epoch 52/100\n",
      "28709/28709 [==============================] - 18s 637us/step - loss: 1.8105 - accuracy: 0.2513 - val_loss: 1.8141 - val_accuracy: 0.2471\n",
      "Epoch 53/100\n",
      "28709/28709 [==============================] - 18s 633us/step - loss: 1.8102 - accuracy: 0.2513 - val_loss: 1.8142 - val_accuracy: 0.2471\n",
      "Epoch 54/100\n",
      "28709/28709 [==============================] - 19s 647us/step - loss: 1.8105 - accuracy: 0.2513 - val_loss: 1.8138 - val_accuracy: 0.2471\n"
     ]
    },
    {
     "name": "stdout",
     "output_type": "stream",
     "text": [
      "Epoch 55/100\n",
      "28709/28709 [==============================] - 17s 609us/step - loss: 1.8103 - accuracy: 0.2513 - val_loss: 1.8211 - val_accuracy: 0.2471\n",
      "Epoch 56/100\n",
      "28709/28709 [==============================] - 17s 591us/step - loss: 1.8106 - accuracy: 0.2513 - val_loss: 1.8140 - val_accuracy: 0.2471\n",
      "Epoch 57/100\n",
      "28709/28709 [==============================] - 16s 569us/step - loss: 1.8105 - accuracy: 0.2513 - val_loss: 1.8140 - val_accuracy: 0.2471\n",
      "Epoch 58/100\n",
      "28709/28709 [==============================] - 16s 568us/step - loss: 1.8103 - accuracy: 0.2513 - val_loss: 1.8144 - val_accuracy: 0.2471\n",
      "Epoch 59/100\n",
      "12800/28709 [============>.................] - ETA: 8s - loss: 1.8118 - accuracy: 0.2506"
     ]
    }
   ],
   "source": [
    "history = model.fit(x = x_train, y = y_train, batch_size = 128, epochs = 100, validation_data = (x_test, y_test))"
   ]
  },
  {
   "cell_type": "code",
   "execution_count": 36,
   "id": "b7c74c73-eaa5-448c-b5a6-1c8348e4837a",
   "metadata": {},
   "outputs": [],
   "source": [
    "model_json = model.to_json()\n",
    "with open(\"Emotiondetector.json\",\"w\") as json_file:\n",
    "    json_file.write(model_json)\n",
    "model.save(\"Emotiondetector.keras\")"
   ]
  },
  {
   "cell_type": "code",
   "execution_count": 24,
   "id": "94e494ac-8dbc-4bb7-bce2-1c9b3c07bd9a",
   "metadata": {},
   "outputs": [],
   "source": [
    "from keras.models import model_from_json"
   ]
  },
  {
   "cell_type": "code",
   "execution_count": 25,
   "id": "8445dfde-0e99-4054-9934-854c3960cbe1",
   "metadata": {},
   "outputs": [],
   "source": [
    "label = ['angry','disgust','fear','happy','neutral','sad','surprise']"
   ]
  },
  {
   "cell_type": "code",
   "execution_count": 31,
   "id": "c7d3cb36-c323-41d7-8e1d-68a182683146",
   "metadata": {},
   "outputs": [],
   "source": [
    "def ef(image):\n",
    "    img = load_img(image,color_mode = 'grayscale')\n",
    "    feature = np.array(img)\n",
    "    feature = feature.reshape(1,48,48,1)\n",
    "    return feature/255.0"
   ]
  },
  {
   "cell_type": "code",
   "execution_count": 32,
   "id": "21b4b932-bd48-495c-9d33-2779f21f9399",
   "metadata": {},
   "outputs": [],
   "source": [
    "import matplotlib.pyplot as plt\n",
    "%matplotlib inline"
   ]
  },
  {
   "cell_type": "code",
   "execution_count": 33,
   "id": "3677957a-57fb-4c5a-bb28-b8f9a94f48d8",
   "metadata": {
    "scrolled": false
   },
   "outputs": [
    {
     "name": "stdout",
     "output_type": "stream",
     "text": [
      "Original image is of angry\n",
      "model prediction is  neutral\n"
     ]
    },
    {
     "data": {
      "text/plain": [
       "<matplotlib.image.AxesImage at 0x22e5c173518>"
      ]
     },
     "execution_count": 33,
     "metadata": {},
     "output_type": "execute_result"
    },
    {
     "data": {
      "image/png": "[encoded data removed]",
      "text/plain": [
       "<Figure size 432x288 with 1 Axes>"
      ]
     },
     "metadata": {
      "needs_background": "light"
     },
     "output_type": "display_data"
    }
   ],
   "source": [
    "image = 'images/train/angry/im0.png'\n",
    "print(\"Original image is of angry\")\n",
    "img = ef(image)\n",
    "pred = model.predict(img)\n",
    "pred_label = label[pred.argmax()]\n",
    "print(\"model prediction is \",pred_label)\n",
    "plt.imshow(img.reshape(48,48),cmap = 'gray')"
   ]
  },
  {
   "cell_type": "code",
   "execution_count": 35,
   "id": "e315164e-5c79-47a6-9d9d-2f5dd43d700b",
   "metadata": {},
   "outputs": [
    {
     "name": "stdout",
     "output_type": "stream",
     "text": [
      "Original image is of happy\n",
      "model prediction is  neutral\n"
     ]
    },
    {
     "data": {
      "text/plain": [
       "<matplotlib.image.AxesImage at 0x22e6a8c04a8>"
      ]
     },
     "execution_count": 35,
     "metadata": {},
     "output_type": "execute_result"
    },
    {
     "data": {
      "image/png": "[encoded data removed]",
      "text/plain": [
       "<Figure size 432x288 with 1 Axes>"
      ]
     },
     "metadata": {
      "needs_background": "light"
     },
     "output_type": "display_data"
    }
   ],
   "source": [
    "image = 'images/train/happy/im7.png'\n",
    "print(\"Original image is of happy\")\n",
    "img = ef(image)\n",
    "pred = model.predict(img)\n",
    "pred_label = label[pred.argmax()]\n",
    "print(\"model prediction is \",pred_label)\n",
    "plt.imshow(img.reshape(48,48),cmap = 'gray')"
   ]
  }
 ],
 "metadata": {
  "kernelspec": {
   "display_name": "Python 3",
   "language": "python",
   "name": "python3"
  },
  "language_info": {
   "codemirror_mode": {
    "name": "ipython",
    "version": 3
   },
   "file_extension": ".py",
   "mimetype": "text/x-python",
   "name": "python",
   "nbconvert_exporter": "python",
   "pygments_lexer": "ipython3",
   "version": "3.6.13"
  }
 },
 "nbformat": 4,
 "nbformat_minor": 5
}
