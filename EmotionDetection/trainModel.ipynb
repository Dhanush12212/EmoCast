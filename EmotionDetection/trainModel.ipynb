{
 "cells": [
  {
   "cell_type": "code",
   "execution_count": null,
   "id": "a1b49049-9f19-4ab4-9de8-ea318efbcaf3",
   "metadata": {},
   "outputs": [
    {
     "name": "stdout",
     "output_type": "stream",
     "text": [
      "angry completed\n",
      "disgust completed\n",
      "fear completed\n",
      "happy completed\n",
      "neutral completed\n",
      "sad completed\n",
      "surprise completed\n",
      "angry completed\n",
      "disgust completed\n",
      "fear completed\n",
      "happy completed\n",
      "neutral completed\n",
      "sad completed\n",
      "surprise completed\n"
     ]
    }
   ],
   "source": [
    "from keras.utils import to_categorical\n",
    "from keras.preprocessing.image import load_img\n",
    "from keras.models import Sequential\n",
    "from keras.layers import Dense, Conv2D, Dropout, Flatten, MaxPooling2D,InputLayer\n",
    "import os\n",
    "import pandas as pd\n",
    "import numpy as np\n",
    "from tqdm.notebook import tqdm\n",
    "from sklearn.preprocessing import LabelEncoder\n",
    "from keras import Input\n",
    "from tensorflow.estimator import Estimator\n",
    "from sklearn.utils.class_weight import compute_class_weight\n",
    "\n",
    "TRAIN_DIR = 'images/train'\n",
    "TEST_DIR = 'images/test'\n",
    "\n",
    "\n",
    "def createdataframe(dir):\n",
    "    image_paths = []\n",
    "    labels = []\n",
    "    for label in os.listdir(dir):\n",
    "        for imagename in os.listdir(os.path.join(dir,label)):\n",
    "            image_paths.append(os.path.join(dir,label,imagename))\n",
    "            labels.append(label)\n",
    "        print(label, 'completed')\n",
    "    return image_paths,labels\n",
    "\n",
    "\n",
    "train = pd.DataFrame();\n",
    "train['image'], train['label'] = createdataframe(TRAIN_DIR)\n",
    "\n",
    "\n",
    "test = pd.DataFrame();\n",
    "test['image'], test['label'] = createdataframe(TEST_DIR)\n",
    "\n",
    "\n",
    "def extract_features(images):\n",
    "    valid_extensions = {'.jpg', '.jpeg', '.png', '.bmp', '.tiff'}  \n",
    "    features = []\n",
    "\n",
    "    for image_path in tqdm(images):\n",
    "        image_path = os.path.normpath(image_path)\n",
    "\n",
    "        # Skip non-image files\n",
    "        if not os.path.splitext(image_path)[1].lower() in valid_extensions:\n",
    "            print(f\"Skipping non-image file: {image_path}\")\n",
    "            continue\n",
    "\n",
    "        try:\n",
    "            img = load_img(image_path, color_mode='grayscale', target_size=(48, 48))\n",
    "            img = np.array(img)\n",
    "            features.append(img)\n",
    "        except Exception as e:\n",
    "            print(f\"Error loading {image_path}: {e}\")\n",
    "            continue\n",
    "\n",
    "    features = np.array(features)\n",
    "    features = features.reshape(len(features), 48, 48, 1)\n",
    "    return features\n",
    "\n",
    "\n",
    "train_features = np.load('train_features.npy')\n",
    "test_features = np.load('test_features.npy')\n",
    "\n",
    "\n",
    "x_train = train_features/255.0\n",
    "x_test = test_features/255.0\n",
    "\n",
    "\n",
    "\n",
    "le = LabelEncoder()\n",
    "le.fit(train['label'])\n",
    "\n",
    "\n",
    "y_train = le.transform(train['label'])\n",
    "y_test = le.transform(test['label'])\n",
    "\n",
    "\n",
    "class_weights = compute_class_weight(\n",
    "    class_weight='balanced',\n",
    "    classes=np.unique(y_train),\n",
    "    y=y_train\n",
    ")\n",
    "\n",
    "class_weights_dict = dict(enumerate(class_weights))\n",
    "\n",
    "\n",
    "y_train = to_categorical(y_train, num_classes=7)\n",
    "y_test = to_categorical(y_test, num_classes=7)\n",
    "\n",
    "\n",
    "\n",
    "# convolutional layers\n",
    "\n",
    "model = Sequential()\n",
    "model.add(InputLayer(input_shape=(48, 48, 1)))\n",
    "model.add(Conv2D(128, kernel_size=(3,3), activation='relu'))\n",
    "\n",
    "model.add(MaxPooling2D(pool_size=(2,2)))\n",
    "model.add(Dropout(0.4))\n",
    "\n",
    "model.add(Conv2D(256, kernel_size=(3,3), activation='relu'))\n",
    "model.add(MaxPooling2D(pool_size=(2,2)))\n",
    "model.add(Dropout(0.4))\n",
    "\n",
    "model.add(Conv2D(512, kernel_size=(3,3), activation='relu'))\n",
    "model.add(MaxPooling2D(pool_size=(2,2)))\n",
    "model.add(Dropout(0.4))\n",
    "\n",
    "model.add(Conv2D(512, kernel_size=(3,3), activation='relu'))\n",
    "model.add(MaxPooling2D(pool_size=(2,2)))\n",
    "model.add(Dropout(0.4))\n",
    "\n",
    "model.add(Flatten())\n",
    "# fully connected layers\n",
    "model.add(Dense(512, activation='relu'))\n",
    "model.add(Dropout(0.4))\n",
    "model.add(Dense(256, activation='relu'))\n",
    "model.add(Dropout(0.3))\n",
    "# output layer\n",
    "model.add(Dense(7, activation='softmax'))\n",
    "\n",
    "\n",
    "from keras.models import model_from_json\n",
    "\n",
    "\n",
    "label = ['angry','disgust','fear','happy','neutral','sad','surprise']\n",
    "\n",
    "\n",
    "def ef(image):\n",
    "    img = load_img(image,color_mode = 'grayscale')\n",
    "    feature = np.array(img)\n",
    "    feature = feature.reshape(1,48,48,1)\n",
    "    return feature/255.0\n",
    "\n",
    "\n"
   ]
  },
  {
   "cell_type": "code",
   "execution_count": 34,
   "id": "4c56834b-ae57-44ac-9baf-cf119b36fa20",
   "metadata": {},
   "outputs": [
    {
     "data": {
      "application/vnd.jupyter.widget-view+json": {
       "model_id": "b76b55efd67e4260b38ab0e8337e36e6",
       "version_major": 2,
       "version_minor": 0
      },
      "text/plain": [
       "  0%|          | 0/28709 [00:00<?, ?it/s]"
      ]
     },
     "metadata": {},
     "output_type": "display_data"
    },
    {
     "data": {
      "application/vnd.jupyter.widget-view+json": {
       "model_id": "9f3672f2f28b41ec84a6ef50e0c4d62c",
       "version_major": 2,
       "version_minor": 0
      },
      "text/plain": [
       "  0%|          | 0/7178 [00:00<?, ?it/s]"
      ]
     },
     "metadata": {},
     "output_type": "display_data"
    }
   ],
   "source": [
    "train_features = extract_features(train['image'])\n",
    "test_features  = extract_features(test['image'])\n",
    "\n",
    "np.save('train_features.npy', train_features)\n",
    "np.save('test_features.npy', test_features)\n"
   ]
  },
  {
   "cell_type": "code",
   "execution_count": 35,
   "id": "cdc5cd81",
   "metadata": {},
   "outputs": [
    {
     "name": "stdout",
     "output_type": "stream",
     "text": [
      "x_train shape: (28709, 48, 48, 1)\n",
      "y_train shape: (28709, 7)\n",
      "x_test shape: (7178, 48, 48, 1)\n",
      "y_test shape: (7178, 7)\n"
     ]
    }
   ],
   "source": [
    "print(\"x_train shape:\", x_train.shape)\n",
    "print(\"y_train shape:\", y_train.shape)\n",
    "print(\"x_test shape:\", x_test.shape)\n",
    "print(\"y_test shape:\", y_test.shape)"
   ]
  },
  {
   "cell_type": "code",
   "execution_count": 38,
   "id": "2b3e1135-f679-44a2-a104-996eb5160321",
   "metadata": {},
   "outputs": [],
   "source": [
    "model.compile(optimizer = 'adam', loss = 'categorical_crossentropy', metrics = ['accuracy'] )"
   ]
  },
  {
   "cell_type": "code",
   "execution_count": 39,
   "id": "b27c0f01-09f7-4e25-8023-710d86446c6e",
   "metadata": {},
   "outputs": [
    {
     "name": "stdout",
     "output_type": "stream",
     "text": [
      "Train on 28709 samples, validate on 7178 samples\n",
      "Epoch 1/100\n",
      "28709/28709 [==============================] - 17s 587us/step - loss: 1.9342 - accuracy: 0.2321 - val_loss: 2.5157 - val_accuracy: 0.2471\n",
      "Epoch 2/100\n",
      "28709/28709 [==============================] - 16s 565us/step - loss: 1.8192 - accuracy: 0.2481 - val_loss: 1.8895 - val_accuracy: 0.2471\n",
      "Epoch 3/100\n",
      "28709/28709 [==============================] - 16s 562us/step - loss: 1.8139 - accuracy: 0.2504 - val_loss: 1.8223 - val_accuracy: 0.2471 0.25\n",
      "Epoch 4/100\n",
      "28709/28709 [==============================] - 16s 565us/step - loss: 1.8125 - accuracy: 0.2510 - val_loss: 1.8074 - val_accuracy: 0.2471\n",
      "Epoch 5/100\n",
      "28709/28709 [==============================] - 17s 590us/step - loss: 1.8121 - accuracy: 0.2510 - val_loss: 1.8222 - val_accuracy: 0.2471\n",
      "Epoch 6/100\n",
      "28709/28709 [==============================] - 16s 564us/step - loss: 1.8125 - accuracy: 0.2509 - val_loss: 1.8481 - val_accuracy: 0.2471\n",
      "Epoch 7/100\n",
      "28709/28709 [==============================] - 16s 570us/step - loss: 1.8114 - accuracy: 0.2513 - val_loss: 1.8378 - val_accuracy: 0.2471\n",
      "Epoch 8/100\n",
      "28709/28709 [==============================] - 16s 564us/step - loss: 1.8113 - accuracy: 0.2513 - val_loss: 1.8139 - val_accuracy: 0.2471\n",
      "Epoch 9/100\n",
      "28709/28709 [==============================] - 16s 561us/step - loss: 1.8123 - accuracy: 0.2509 - val_loss: 1.8137 - val_accuracy: 0.2471\n",
      "Epoch 10/100\n",
      "28709/28709 [==============================] - 16s 569us/step - loss: 1.8140 - accuracy: 0.2511 - val_loss: 1.8414 - val_accuracy: 0.2471\n",
      "Epoch 11/100\n",
      "28709/28709 [==============================] - 16s 563us/step - loss: 1.8109 - accuracy: 0.2512 - val_loss: 1.8262 - val_accuracy: 0.2471\n",
      "Epoch 12/100\n",
      "28709/28709 [==============================] - 16s 568us/step - loss: 1.8113 - accuracy: 0.2512 - val_loss: 1.8283 - val_accuracy: 0.2471\n",
      "Epoch 13/100\n",
      "28709/28709 [==============================] - 16s 565us/step - loss: 1.8165 - accuracy: 0.2510 - val_loss: 1.8129 - val_accuracy: 0.2471\n",
      "Epoch 14/100\n",
      "28709/28709 [==============================] - 16s 562us/step - loss: 1.8147 - accuracy: 0.2502 - val_loss: 1.8193 - val_accuracy: 0.2471\n",
      "Epoch 15/100\n",
      "28709/28709 [==============================] - 16s 563us/step - loss: 1.8120 - accuracy: 0.2507 - val_loss: 1.8110 - val_accuracy: 0.2471\n",
      "Epoch 16/100\n",
      "28709/28709 [==============================] - 16s 561us/step - loss: 1.8109 - accuracy: 0.2514 - val_loss: 1.8264 - val_accuracy: 0.2471\n",
      "Epoch 17/100\n",
      "28709/28709 [==============================] - 16s 561us/step - loss: 1.8176 - accuracy: 0.2511 - val_loss: 1.8131 - val_accuracy: 0.2471\n",
      "Epoch 18/100\n",
      "28709/28709 [==============================] - 16s 562us/step - loss: 1.8112 - accuracy: 0.2513 - val_loss: 1.8198 - val_accuracy: 0.2471\n",
      "Epoch 19/100\n",
      "28709/28709 [==============================] - 16s 562us/step - loss: 1.8123 - accuracy: 0.2511 - val_loss: 1.8187 - val_accuracy: 0.2471\n",
      "Epoch 20/100\n",
      "28709/28709 [==============================] - 16s 560us/step - loss: 1.8116 - accuracy: 0.2509 - val_loss: 1.8178 - val_accuracy: 0.2471\n",
      "Epoch 21/100\n",
      "28709/28709 [==============================] - 16s 560us/step - loss: 1.8111 - accuracy: 0.2513 - val_loss: 1.8032 - val_accuracy: 0.2471\n",
      "Epoch 22/100\n",
      "28709/28709 [==============================] - 16s 561us/step - loss: 1.8111 - accuracy: 0.2513 - val_loss: 1.8069 - val_accuracy: 0.2471\n",
      "Epoch 23/100\n",
      "28709/28709 [==============================] - 16s 561us/step - loss: 1.8108 - accuracy: 0.2513 - val_loss: 1.8134 - val_accuracy: 0.2471\n",
      "Epoch 24/100\n",
      "28709/28709 [==============================] - 16s 562us/step - loss: 1.8113 - accuracy: 0.2510 - val_loss: 1.8134 - val_accuracy: 0.2471\n",
      "Epoch 25/100\n",
      "28709/28709 [==============================] - 16s 562us/step - loss: 1.8152 - accuracy: 0.2500 - val_loss: 1.8083 - val_accuracy: 0.2471\n",
      "Epoch 26/100\n",
      "28709/28709 [==============================] - 16s 563us/step - loss: 1.8234 - accuracy: 0.2509 - val_loss: 1.8122 - val_accuracy: 0.2471\n",
      "Epoch 27/100\n",
      "28709/28709 [==============================] - 16s 561us/step - loss: 1.8106 - accuracy: 0.2513 - val_loss: 1.7784 - val_accuracy: 0.2471\n",
      "Epoch 28/100\n",
      "28709/28709 [==============================] - 16s 561us/step - loss: 1.8104 - accuracy: 0.2513 - val_loss: 1.8139 - val_accuracy: 0.2471\n",
      "Epoch 29/100\n",
      "28709/28709 [==============================] - 16s 562us/step - loss: 1.8108 - accuracy: 0.2511 - val_loss: 1.8136 - val_accuracy: 0.2471\n",
      "Epoch 30/100\n",
      "28709/28709 [==============================] - 16s 560us/step - loss: 1.8113 - accuracy: 0.2510 - val_loss: 1.7956 - val_accuracy: 0.2471\n",
      "Epoch 31/100\n",
      "28709/28709 [==============================] - 16s 562us/step - loss: 1.8107 - accuracy: 0.2512 - val_loss: 1.8122 - val_accuracy: 0.2471\n",
      "Epoch 32/100\n",
      "28709/28709 [==============================] - 16s 562us/step - loss: 1.8104 - accuracy: 0.2513 - val_loss: 1.8284 - val_accuracy: 0.2471\n",
      "Epoch 33/100\n",
      "28709/28709 [==============================] - 16s 562us/step - loss: 1.8118 - accuracy: 0.2511 - val_loss: 1.8141 - val_accuracy: 0.2471\n",
      "Epoch 34/100\n",
      "28709/28709 [==============================] - 16s 575us/step - loss: 1.8119 - accuracy: 0.2510 - val_loss: 1.7683 - val_accuracy: 0.3468\n",
      "Epoch 35/100\n",
      "28709/28709 [==============================] - 16s 572us/step - loss: 1.8110 - accuracy: 0.2508 - val_loss: 1.8135 - val_accuracy: 0.2471\n",
      "Epoch 36/100\n",
      "28709/28709 [==============================] - 16s 565us/step - loss: 1.8103 - accuracy: 0.2513 - val_loss: 1.8136 - val_accuracy: 0.2471\n",
      "Epoch 37/100\n",
      "28709/28709 [==============================] - 17s 575us/step - loss: 1.8105 - accuracy: 0.2512 - val_loss: 1.8132 - val_accuracy: 0.2471\n",
      "Epoch 38/100\n",
      "28709/28709 [==============================] - 17s 577us/step - loss: 1.8149 - accuracy: 0.2500 - val_loss: 1.8137 - val_accuracy: 0.2471\n",
      "Epoch 39/100\n",
      "28709/28709 [==============================] - 16s 560us/step - loss: 1.8120 - accuracy: 0.2509 - val_loss: 1.8134 - val_accuracy: 0.2471\n",
      "Epoch 40/100\n",
      "28709/28709 [==============================] - 16s 561us/step - loss: 1.8105 - accuracy: 0.2513 - val_loss: 1.8132 - val_accuracy: 0.2471\n",
      "Epoch 41/100\n",
      "28709/28709 [==============================] - 16s 561us/step - loss: 1.8140 - accuracy: 0.2512 - val_loss: 1.8439 - val_accuracy: 0.3150\n",
      "Epoch 42/100\n",
      "28709/28709 [==============================] - 16s 560us/step - loss: 1.8133 - accuracy: 0.2511 - val_loss: 1.8135 - val_accuracy: 0.2471\n",
      "Epoch 43/100\n",
      "28709/28709 [==============================] - 16s 561us/step - loss: 1.8101 - accuracy: 0.2513 - val_loss: 1.8134 - val_accuracy: 0.2471\n",
      "Epoch 44/100\n",
      "28709/28709 [==============================] - 16s 561us/step - loss: 1.8107 - accuracy: 0.2513 - val_loss: 1.8133 - val_accuracy: 0.2471\n",
      "Epoch 45/100\n",
      "28709/28709 [==============================] - 16s 563us/step - loss: 1.8733 - accuracy: 0.2493 - val_loss: 1.8135 - val_accuracy: 0.2471\n",
      "Epoch 46/100\n",
      "28709/28709 [==============================] - 16s 562us/step - loss: 1.8223 - accuracy: 0.2513 - val_loss: 1.8135 - val_accuracy: 0.2471\n",
      "Epoch 47/100\n",
      "28709/28709 [==============================] - 16s 562us/step - loss: 1.8117 - accuracy: 0.2513 - val_loss: 1.8134 - val_accuracy: 0.2471\n",
      "Epoch 48/100\n",
      "28709/28709 [==============================] - 16s 562us/step - loss: 1.8151 - accuracy: 0.2513 - val_loss: 1.8132 - val_accuracy: 0.2471\n",
      "Epoch 49/100\n",
      "28709/28709 [==============================] - 16s 562us/step - loss: 1.8103 - accuracy: 0.2513 - val_loss: 1.8132 - val_accuracy: 0.2471\n",
      "Epoch 50/100\n",
      "28709/28709 [==============================] - 16s 561us/step - loss: 1.8103 - accuracy: 0.2513 - val_loss: 1.8130 - val_accuracy: 0.2471\n",
      "Epoch 51/100\n",
      "28709/28709 [==============================] - 16s 561us/step - loss: 1.8101 - accuracy: 0.2513 - val_loss: 1.8135 - val_accuracy: 0.2471\n",
      "Epoch 52/100\n",
      "28709/28709 [==============================] - 16s 568us/step - loss: 1.8101 - accuracy: 0.2513 - val_loss: 1.8132 - val_accuracy: 0.2471\n",
      "Epoch 53/100\n",
      "28709/28709 [==============================] - 16s 561us/step - loss: 1.8103 - accuracy: 0.2513 - val_loss: 1.8133 - val_accuracy: 0.2471\n",
      "Epoch 54/100\n",
      "28709/28709 [==============================] - 16s 560us/step - loss: 1.8104 - accuracy: 0.2513 - val_loss: 1.8105 - val_accuracy: 0.2471\n"
     ]
    },
    {
     "name": "stdout",
     "output_type": "stream",
     "text": [
      "Epoch 55/100\n",
      "28709/28709 [==============================] - 16s 560us/step - loss: 1.8105 - accuracy: 0.2513 - val_loss: 1.8132 - val_accuracy: 0.2471\n",
      "Epoch 56/100\n",
      "28709/28709 [==============================] - 16s 563us/step - loss: 1.8107 - accuracy: 0.2513 - val_loss: 1.8133 - val_accuracy: 0.2471\n",
      "Epoch 57/100\n",
      "28709/28709 [==============================] - 531s 18ms/step - loss: 1.8103 - accuracy: 0.2513 - val_loss: 1.8134 - val_accuracy: 0.2471\n",
      "Epoch 58/100\n",
      "28709/28709 [==============================] - 16s 574us/step - loss: 1.8103 - accuracy: 0.2513 - val_loss: 1.8134 - val_accuracy: 0.2471\n",
      "Epoch 59/100\n",
      "28709/28709 [==============================] - 16s 552us/step - loss: 1.8182 - accuracy: 0.2513 - val_loss: 1.8131 - val_accuracy: 0.2471\n",
      "Epoch 60/100\n",
      "28709/28709 [==============================] - 16s 553us/step - loss: 1.8104 - accuracy: 0.2513 - val_loss: 1.8135 - val_accuracy: 0.2471\n",
      "Epoch 61/100\n",
      "28709/28709 [==============================] - 16s 563us/step - loss: 1.8103 - accuracy: 0.2513 - val_loss: 1.8136 - val_accuracy: 0.2471\n",
      "Epoch 62/100\n",
      "28709/28709 [==============================] - 16s 568us/step - loss: 1.8103 - accuracy: 0.2513 - val_loss: 1.8132 - val_accuracy: 0.2471\n",
      "Epoch 63/100\n",
      "28709/28709 [==============================] - 16s 565us/step - loss: 1.8101 - accuracy: 0.2513 - val_loss: 1.8132 - val_accuracy: 0.2471\n",
      "Epoch 64/100\n",
      "28709/28709 [==============================] - 16s 565us/step - loss: 1.8104 - accuracy: 0.2513 - val_loss: 1.8134 - val_accuracy: 0.2471\n",
      "Epoch 65/100\n",
      "28709/28709 [==============================] - 16s 566us/step - loss: 1.8105 - accuracy: 0.2513 - val_loss: 1.8134 - val_accuracy: 0.2471\n",
      "Epoch 66/100\n",
      "28709/28709 [==============================] - 16s 566us/step - loss: 1.8229 - accuracy: 0.2513 - val_loss: 1.8135 - val_accuracy: 0.2471\n",
      "Epoch 67/100\n",
      "28709/28709 [==============================] - 16s 564us/step - loss: 1.8100 - accuracy: 0.2513 - val_loss: 1.8138 - val_accuracy: 0.2471\n",
      "Epoch 68/100\n",
      "28709/28709 [==============================] - 16s 565us/step - loss: 1.8102 - accuracy: 0.2513 - val_loss: 1.8135 - val_accuracy: 0.2471\n",
      "Epoch 69/100\n",
      "28709/28709 [==============================] - 16s 565us/step - loss: 1.8102 - accuracy: 0.2513 - val_loss: 1.8134 - val_accuracy: 0.2471\n",
      "Epoch 70/100\n",
      "28709/28709 [==============================] - 16s 565us/step - loss: 1.8104 - accuracy: 0.2513 - val_loss: 1.8131 - val_accuracy: 0.2471\n",
      "Epoch 71/100\n",
      "28709/28709 [==============================] - 16s 565us/step - loss: 1.8181 - accuracy: 0.2513 - val_loss: 1.8131 - val_accuracy: 0.2471\n",
      "Epoch 72/100\n",
      "28709/28709 [==============================] - 16s 566us/step - loss: 1.8102 - accuracy: 0.2513 - val_loss: 1.8130 - val_accuracy: 0.2471\n",
      "Epoch 73/100\n",
      "28709/28709 [==============================] - 16s 565us/step - loss: 1.8101 - accuracy: 0.2513 - val_loss: 1.8131 - val_accuracy: 0.2471\n",
      "Epoch 74/100\n",
      "28709/28709 [==============================] - 16s 566us/step - loss: 1.8103 - accuracy: 0.2513 - val_loss: 1.8133 - val_accuracy: 0.2471\n",
      "Epoch 75/100\n",
      "28709/28709 [==============================] - 16s 569us/step - loss: 1.8103 - accuracy: 0.2513 - val_loss: 1.8132 - val_accuracy: 0.2471\n",
      "Epoch 76/100\n",
      "28709/28709 [==============================] - 16s 572us/step - loss: 1.8102 - accuracy: 0.2513 - val_loss: 1.8134 - val_accuracy: 0.2471\n",
      "Epoch 77/100\n",
      "28709/28709 [==============================] - 16s 570us/step - loss: 1.8101 - accuracy: 0.2513 - val_loss: 1.8134 - val_accuracy: 0.2471\n",
      "Epoch 78/100\n",
      "28709/28709 [==============================] - 16s 565us/step - loss: 1.8103 - accuracy: 0.2513 - val_loss: 1.8133 - val_accuracy: 0.2471\n",
      "Epoch 79/100\n",
      "28709/28709 [==============================] - 16s 564us/step - loss: 1.8101 - accuracy: 0.2513 - val_loss: 1.8131 - val_accuracy: 0.2471\n",
      "Epoch 80/100\n",
      "28709/28709 [==============================] - 16s 566us/step - loss: 1.8101 - accuracy: 0.2513 - val_loss: 1.8131 - val_accuracy: 0.2471\n",
      "Epoch 81/100\n",
      "28709/28709 [==============================] - 16s 569us/step - loss: 1.8103 - accuracy: 0.2513 - val_loss: 2.0913 - val_accuracy: 0.1737\n",
      "Epoch 82/100\n",
      "28709/28709 [==============================] - 16s 565us/step - loss: 1.8102 - accuracy: 0.2513 - val_loss: 1.8134 - val_accuracy: 0.2471\n",
      "Epoch 83/100\n",
      "28709/28709 [==============================] - 16s 567us/step - loss: 1.8101 - accuracy: 0.2513 - val_loss: 1.8226 - val_accuracy: 0.24711.8097 \n",
      "Epoch 84/100\n",
      "28709/28709 [==============================] - 16s 568us/step - loss: 1.8101 - accuracy: 0.2513 - val_loss: 1.8131 - val_accuracy: 0.2471\n",
      "Epoch 85/100\n",
      "28709/28709 [==============================] - 16s 566us/step - loss: 1.8101 - accuracy: 0.2513 - val_loss: 1.8130 - val_accuracy: 0.2471\n",
      "Epoch 86/100\n",
      "28709/28709 [==============================] - 16s 565us/step - loss: 1.8101 - accuracy: 0.2513 - val_loss: 1.8134 - val_accuracy: 0.2471\n",
      "Epoch 87/100\n",
      "28709/28709 [==============================] - 16s 565us/step - loss: 1.8102 - accuracy: 0.2513 - val_loss: 1.8135 - val_accuracy: 0.2471\n",
      "Epoch 88/100\n",
      "28709/28709 [==============================] - 16s 569us/step - loss: 1.8102 - accuracy: 0.2513 - val_loss: 1.8133 - val_accuracy: 0.2471\n",
      "Epoch 89/100\n",
      "28709/28709 [==============================] - 16s 566us/step - loss: 1.8104 - accuracy: 0.2513 - val_loss: 1.8134 - val_accuracy: 0.2471\n",
      "Epoch 90/100\n",
      "28709/28709 [==============================] - 16s 566us/step - loss: 1.8103 - accuracy: 0.2513 - val_loss: 1.8132 - val_accuracy: 0.2471\n",
      "Epoch 91/100\n",
      "28709/28709 [==============================] - 16s 571us/step - loss: 1.8103 - accuracy: 0.2513 - val_loss: 1.8134 - val_accuracy: 0.2471\n",
      "Epoch 92/100\n",
      "28709/28709 [==============================] - 16s 567us/step - loss: 1.8101 - accuracy: 0.2513 - val_loss: 1.8131 - val_accuracy: 0.2471\n",
      "Epoch 93/100\n",
      "28709/28709 [==============================] - 16s 568us/step - loss: 1.8101 - accuracy: 0.2513 - val_loss: 1.8134 - val_accuracy: 0.2471\n",
      "Epoch 94/100\n",
      "28709/28709 [==============================] - 16s 566us/step - loss: 1.8104 - accuracy: 0.2513 - val_loss: 1.8131 - val_accuracy: 0.2471\n",
      "Epoch 95/100\n",
      "28709/28709 [==============================] - 16s 566us/step - loss: 1.8103 - accuracy: 0.2513 - val_loss: 1.8131 - val_accuracy: 0.2471\n",
      "Epoch 96/100\n",
      "28709/28709 [==============================] - 16s 569us/step - loss: 1.8101 - accuracy: 0.2513 - val_loss: 1.8130 - val_accuracy: 0.2471\n",
      "Epoch 97/100\n",
      "28709/28709 [==============================] - 16s 567us/step - loss: 1.8102 - accuracy: 0.2513 - val_loss: 1.8132 - val_accuracy: 0.2471\n",
      "Epoch 98/100\n",
      "28709/28709 [==============================] - 16s 567us/step - loss: 1.8103 - accuracy: 0.2513 - val_loss: 1.8133 - val_accuracy: 0.2471\n",
      "Epoch 99/100\n",
      "28709/28709 [==============================] - 16s 567us/step - loss: 1.8102 - accuracy: 0.2513 - val_loss: 1.7730 - val_accuracy: 0.2471\n",
      "Epoch 100/100\n",
      "28709/28709 [==============================] - 16s 567us/step - loss: 2.6279 - accuracy: 0.2510 - val_loss: 1.7724 - val_accuracy: 0.2225\n"
     ]
    }
   ],
   "source": [
    "history = model.fit(x = x_train, y = y_train, batch_size = 128, epochs = 100, validation_data = (x_test, y_test))"
   ]
  },
  {
   "cell_type": "code",
   "execution_count": 40,
   "id": "b7c74c73-eaa5-448c-b5a6-1c8348e4837a",
   "metadata": {},
   "outputs": [],
   "source": [
    "model_json = model.to_json()\n",
    "with open(\"Emotiondetector.json\",\"w\") as json_file:\n",
    "    json_file.write(model_json)\n",
    "model.save(\"Emotiondetector.h5\")"
   ]
  },
  {
   "cell_type": "code",
   "execution_count": 44,
   "id": "be7219ee",
   "metadata": {},
   "outputs": [
    {
     "name": "stdout",
     "output_type": "stream",
     "text": [
      "original image is of angry\n",
      "model prediction is  happy\n"
     ]
    },
    {
     "data": {
      "text/plain": [
       "<matplotlib.image.AxesImage at 0x1cc85ad97b8>"
      ]
     },
     "execution_count": 44,
     "metadata": {},
     "output_type": "execute_result"
    },
    {
     "data": {
      "image/png": "[encoded data removed]",
      "text/plain": [
       "<Figure size 432x288 with 1 Axes>"
      ]
     },
     "metadata": {
      "needs_background": "light"
     },
     "output_type": "display_data"
    }
   ],
   "source": [
    "import matplotlib.pyplot as plt\n",
    "%matplotlib inline\n",
    "\n",
    "\n",
    "image = 'images/train/angry/im3.png'\n",
    "print(\"original image is of angry\")\n",
    "img = ef(image)\n",
    "pred = model.predict(img)\n",
    "pred_label = label[pred.argmax()]\n",
    "print(\"model prediction is \",pred_label)\n",
    "plt.imshow(img.reshape(48,48),cmap='gray')"
   ]
  },
  {
   "cell_type": "code",
   "execution_count": 45,
   "id": "ab46091d",
   "metadata": {},
   "outputs": [
    {
     "name": "stdout",
     "output_type": "stream",
     "text": [
      "Test Accuracy: 24.71%\n"
     ]
    }
   ],
   "source": [
    "loss, acc = model.evaluate(x_test, y_test, verbose=0)\n",
    "print(f\"Test Accuracy: {acc * 100:.2f}%\")\n"
   ]
  },
  {
   "cell_type": "code",
   "execution_count": 46,
   "id": "1223c3bf",
   "metadata": {},
   "outputs": [
    {
     "name": "stdout",
     "output_type": "stream",
     "text": [
      "Accuracy: 24.714405126776263 %\n"
     ]
    }
   ],
   "source": [
    "import numpy as np\n",
    "from sklearn.metrics import accuracy_score\n",
    "\n",
    "y_pred = model.predict(x_test)\n",
    "y_pred_classes = np.argmax(y_pred, axis=1)   # predicted labels\n",
    "y_true = np.argmax(y_test, axis=1)           # actual labels\n",
    "\n",
    "print(\"Accuracy:\", accuracy_score(y_true, y_pred_classes) * 100, \"%\")\n"
   ]
  },
  {
   "cell_type": "code",
   "execution_count": null,
   "id": "919efcd5",
   "metadata": {},
   "outputs": [],
   "source": []
  }
 ],
 "metadata": {
  "kernelspec": {
   "display_name": "Python 3",
   "language": "python",
   "name": "python3"
  },
  "language_info": {
   "codemirror_mode": {
    "name": "ipython",
    "version": 3
   },
   "file_extension": ".py",
   "mimetype": "text/x-python",
   "name": "python",
   "nbconvert_exporter": "python",
   "pygments_lexer": "ipython3",
   "version": "3.12.6"
  }
 },
 "nbformat": 4,
 "nbformat_minor": 5
}
