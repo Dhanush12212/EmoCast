{
 "cells": [
  {
   "cell_type": "code",
   "execution_count": 24,
   "id": "19ce7749",
   "metadata": {},
   "outputs": [],
   "source": [
    "from keras_preprocessing.image import load_img\n",
    "from keras.models import Sequential\n",
    "from keras.layers import Dense, Conv2D, Dropout, Flatten, MaxPooling2D\n",
    "import os\n",
    "import pandas as pd\n",
    "import numpy as np\n",
    "from tensorflow.keras.utils import to_categorical"
   ]
  },
  {
   "cell_type": "code",
   "execution_count": 4,
   "id": "02e9c221",
   "metadata": {},
   "outputs": [],
   "source": [
    "TRAIN_DIR = 'images/train'\n",
    "TEST_DIR = 'images/test'"
   ]
  },
  {
   "cell_type": "code",
   "execution_count": 5,
   "id": "ede9c1f1",
   "metadata": {},
   "outputs": [],
   "source": [
    "def createdataframe(dir):\n",
    "    image_paths = []\n",
    "    labels = []\n",
    "    for label in os.listdir(dir):\n",
    "        for imagename in os.listdir(os.path.join(dir,label)):\n",
    "            image_paths.append(os.path.join(dir,label,imagename))\n",
    "            labels.append(label)\n",
    "        print(label, \"completed\")\n",
    "    return image_paths,labels\n"
   ]
  },
  {
   "cell_type": "code",
   "execution_count": 6,
   "id": "a3a8f1a9",
   "metadata": {},
   "outputs": [
    {
     "name": "stdout",
     "output_type": "stream",
     "text": [
      "angry completed\n",
      "disgust completed\n",
      "fear completed\n",
      "happy completed\n",
      "neutral completed\n",
      "sad completed\n",
      "surprise completed\n"
     ]
    }
   ],
   "source": [
    "train = pd.DataFrame()\n",
    "train['image'], train['label'] = createdataframe(TRAIN_DIR)"
   ]
  },
  {
   "cell_type": "code",
   "execution_count": 7,
   "id": "c8a0cd29",
   "metadata": {},
   "outputs": [
    {
     "name": "stdout",
     "output_type": "stream",
     "text": [
      "                                 image     label\n",
      "0           images/train\\angry\\im0.png     angry\n",
      "1           images/train\\angry\\im1.png     angry\n",
      "2          images/train\\angry\\im10.png     angry\n",
      "3         images/train\\angry\\im100.png     angry\n",
      "4        images/train\\angry\\im1000.png     angry\n",
      "...                                ...       ...\n",
      "28704  images/train\\surprise\\im995.png  surprise\n",
      "28705  images/train\\surprise\\im996.png  surprise\n",
      "28706  images/train\\surprise\\im997.png  surprise\n",
      "28707  images/train\\surprise\\im998.png  surprise\n",
      "28708  images/train\\surprise\\im999.png  surprise\n",
      "\n",
      "[28709 rows x 2 columns]\n"
     ]
    }
   ],
   "source": [
    "print(train)"
   ]
  },
  {
   "cell_type": "code",
   "execution_count": 8,
   "id": "7f9688fc",
   "metadata": {},
   "outputs": [
    {
     "name": "stdout",
     "output_type": "stream",
     "text": [
      "angry completed\n",
      "disgust completed\n",
      "fear completed\n",
      "happy completed\n",
      "neutral completed\n",
      "sad completed\n",
      "surprise completed\n"
     ]
    }
   ],
   "source": [
    "test = pd.DataFrame()\n",
    "test['image'], test['label'] = createdataframe(TEST_DIR)"
   ]
  },
  {
   "cell_type": "code",
   "execution_count": 9,
   "id": "7f504f5d",
   "metadata": {},
   "outputs": [
    {
     "name": "stdout",
     "output_type": "stream",
     "text": [
      "                              image     label\n",
      "0         images/test\\angry\\im0.png     angry\n",
      "1         images/test\\angry\\im1.png     angry\n",
      "2        images/test\\angry\\im10.png     angry\n",
      "3       images/test\\angry\\im100.png     angry\n",
      "4       images/test\\angry\\im101.png     angry\n",
      "...                             ...       ...\n",
      "7173  images/test\\surprise\\im95.png  surprise\n",
      "7174  images/test\\surprise\\im96.png  surprise\n",
      "7175  images/test\\surprise\\im97.png  surprise\n",
      "7176  images/test\\surprise\\im98.png  surprise\n",
      "7177  images/test\\surprise\\im99.png  surprise\n",
      "\n",
      "[7178 rows x 2 columns]\n",
      "0           images/test\\angry\\im0.png\n",
      "1           images/test\\angry\\im1.png\n",
      "2          images/test\\angry\\im10.png\n",
      "3         images/test\\angry\\im100.png\n",
      "4         images/test\\angry\\im101.png\n",
      "                    ...              \n",
      "7173    images/test\\surprise\\im95.png\n",
      "7174    images/test\\surprise\\im96.png\n",
      "7175    images/test\\surprise\\im97.png\n",
      "7176    images/test\\surprise\\im98.png\n",
      "7177    images/test\\surprise\\im99.png\n",
      "Name: image, Length: 7178, dtype: object\n"
     ]
    }
   ],
   "source": [
    "print(test)\n",
    "print(test['image'])"
   ]
  },
  {
   "cell_type": "code",
   "execution_count": 10,
   "id": "693324b0",
   "metadata": {},
   "outputs": [],
   "source": [
    "from tqdm.notebook import tqdm"
   ]
  },
  {
   "cell_type": "code",
   "execution_count": 13,
   "id": "f52ccbbe",
   "metadata": {},
   "outputs": [],
   "source": [
    "def extract_features(images):\n",
    "    features = []\n",
    "    for image in tqdm(images):\n",
    "        img = load_img(image, color_mode=\"grayscale\", target_size=(48, 48))\n",
    "        img = np.array(img)\n",
    "        features.append(img)\n",
    "    features = np.array(features)\n",
    "    features = features.reshape(len(features),48,48,1)\n",
    "    return features\n",
    "    "
   ]
  },
  {
   "cell_type": "code",
   "execution_count": 14,
   "id": "942a9d40",
   "metadata": {},
   "outputs": [
    {
     "data": {
      "application/vnd.jupyter.widget-view+json": {
       "model_id": "12bbb90d88e24de885e416dc3c7470f6",
       "version_major": 2,
       "version_minor": 0
      },
      "text/plain": [
       "  0%|          | 0/28709 [00:00<?, ?it/s]"
      ]
     },
     "metadata": {},
     "output_type": "display_data"
    }
   ],
   "source": [
    "train_features = extract_features(train['image']) "
   ]
  },
  {
   "cell_type": "code",
   "execution_count": 15,
   "id": "c1b294ed",
   "metadata": {},
   "outputs": [
    {
     "data": {
      "application/vnd.jupyter.widget-view+json": {
       "model_id": "293164f2ad454a65987f636246ffa3e2",
       "version_major": 2,
       "version_minor": 0
      },
      "text/plain": [
       "  0%|          | 0/7178 [00:00<?, ?it/s]"
      ]
     },
     "metadata": {},
     "output_type": "display_data"
    }
   ],
   "source": [
    "test_features = extract_features(test['image'])"
   ]
  },
  {
   "cell_type": "code",
   "execution_count": 19,
   "id": "f78b5d34",
   "metadata": {},
   "outputs": [],
   "source": [
    "x_train = train_features/255.0\n",
    "x_test = test_features/255.0"
   ]
  },
  {
   "cell_type": "code",
   "execution_count": 20,
   "id": "c660fca1",
   "metadata": {},
   "outputs": [],
   "source": [
    "from sklearn.preprocessing import LabelEncoder"
   ]
  },
  {
   "cell_type": "code",
   "execution_count": 21,
   "id": "5384a25b",
   "metadata": {},
   "outputs": [
    {
     "data": {
      "text/plain": [
       "LabelEncoder()"
      ]
     },
     "execution_count": 21,
     "metadata": {},
     "output_type": "execute_result"
    }
   ],
   "source": [
    "le = LabelEncoder()\n",
    "le.fit(train['label'])"
   ]
  },
  {
   "cell_type": "code",
   "execution_count": 22,
   "id": "50ece229",
   "metadata": {},
   "outputs": [],
   "source": [
    "y_train = le.transform(train['label'])\n",
    "y_test = le.transform(test['label'])"
   ]
  },
  {
   "cell_type": "code",
   "execution_count": 25,
   "id": "5e284299",
   "metadata": {},
   "outputs": [],
   "source": [
    "y_train = to_categorical(y_train,num_classes = 7)\n",
    "y_test = to_categorical(y_test,num_classes = 7)"
   ]
  },
  {
   "cell_type": "code",
   "execution_count": 26,
   "id": "3977223a",
   "metadata": {},
   "outputs": [],
   "source": [
    "model = Sequential()\n",
    "# convolutional layers\n",
    "model.add(Conv2D(128, kernel_size=(3,3), activation='relu', input_shape=(48,48,1)))\n",
    "model.add(MaxPooling2D(pool_size=(2,2)))\n",
    "model.add(Dropout(0.4))\n",
    "\n",
    "model.add(Conv2D(256, kernel_size=(3,3), activation='relu'))\n",
    "model.add(MaxPooling2D(pool_size=(2,2)))\n",
    "model.add(Dropout(0.4))\n",
    "\n",
    "model.add(Conv2D(512, kernel_size=(3,3), activation='relu'))\n",
    "model.add(MaxPooling2D(pool_size=(2,2)))\n",
    "model.add(Dropout(0.4))\n",
    "\n",
    "model.add(Conv2D(512, kernel_size=(3,3), activation='relu'))\n",
    "model.add(MaxPooling2D(pool_size=(2,2)))\n",
    "model.add(Dropout(0.4))\n",
    "\n",
    "model.add(Flatten())\n",
    "# fully connected layers\n",
    "model.add(Dense(512, activation='relu'))\n",
    "model.add(Dropout(0.4))\n",
    "model.add(Dense(256, activation='relu'))\n",
    "model.add(Dropout(0.3))\n",
    "# output layer\n",
    "model.add(Dense(7, activation='softmax'))"
   ]
  },
  {
   "cell_type": "code",
   "execution_count": 62,
   "id": "de986d6e",
   "metadata": {},
   "outputs": [],
   "source": [
    "model.compile(optimizer = 'adam', loss = 'categorical_crossentropy', metrics = 'accuracy' )"
   ]
  },
  {
   "cell_type": "code",
   "execution_count": 28,
   "id": "5cd0b130",
   "metadata": {},
   "outputs": [
    {
     "name": "stdout",
     "output_type": "stream",
     "text": [
      "Epoch 1/100\n",
      "225/225 [==============================] - 43s 85ms/step - loss: 1.8221 - accuracy: 0.2473 - val_loss: 1.8155 - val_accuracy: 0.2471\n",
      "Epoch 2/100\n",
      "225/225 [==============================] - 16s 73ms/step - loss: 1.7977 - accuracy: 0.2538 - val_loss: 1.7835 - val_accuracy: 0.2788\n",
      "Epoch 3/100\n",
      "225/225 [==============================] - 16s 73ms/step - loss: 1.7031 - accuracy: 0.3052 - val_loss: 1.6021 - val_accuracy: 0.3794\n",
      "Epoch 4/100\n",
      "225/225 [==============================] - 16s 73ms/step - loss: 1.5843 - accuracy: 0.3766 - val_loss: 1.4324 - val_accuracy: 0.4436\n",
      "Epoch 5/100\n",
      "225/225 [==============================] - 16s 73ms/step - loss: 1.4861 - accuracy: 0.4177 - val_loss: 1.4085 - val_accuracy: 0.4500\n",
      "Epoch 6/100\n",
      "225/225 [==============================] - 16s 73ms/step - loss: 1.4252 - accuracy: 0.4435 - val_loss: 1.3289 - val_accuracy: 0.4819\n",
      "Epoch 7/100\n",
      "225/225 [==============================] - 16s 73ms/step - loss: 1.3823 - accuracy: 0.4718 - val_loss: 1.2867 - val_accuracy: 0.4969\n",
      "Epoch 8/100\n",
      "225/225 [==============================] - 17s 74ms/step - loss: 1.3532 - accuracy: 0.4819 - val_loss: 1.2583 - val_accuracy: 0.5089\n",
      "Epoch 9/100\n",
      "225/225 [==============================] - 17s 74ms/step - loss: 1.3264 - accuracy: 0.4928 - val_loss: 1.2182 - val_accuracy: 0.5364\n",
      "Epoch 10/100\n",
      "225/225 [==============================] - 16s 73ms/step - loss: 1.3074 - accuracy: 0.4995 - val_loss: 1.1991 - val_accuracy: 0.5436\n",
      "Epoch 11/100\n",
      "225/225 [==============================] - 17s 74ms/step - loss: 1.2895 - accuracy: 0.5091 - val_loss: 1.1844 - val_accuracy: 0.5493\n",
      "Epoch 12/100\n",
      "225/225 [==============================] - 17s 74ms/step - loss: 1.2654 - accuracy: 0.5186 - val_loss: 1.1782 - val_accuracy: 0.5465\n",
      "Epoch 13/100\n",
      "225/225 [==============================] - 17s 74ms/step - loss: 1.2516 - accuracy: 0.5245 - val_loss: 1.1681 - val_accuracy: 0.5539\n",
      "Epoch 14/100\n",
      "225/225 [==============================] - 17s 73ms/step - loss: 1.2365 - accuracy: 0.5302 - val_loss: 1.1474 - val_accuracy: 0.5559\n",
      "Epoch 15/100\n",
      "225/225 [==============================] - 17s 73ms/step - loss: 1.2209 - accuracy: 0.5356 - val_loss: 1.1349 - val_accuracy: 0.5635\n",
      "Epoch 16/100\n",
      "225/225 [==============================] - 16s 73ms/step - loss: 1.2033 - accuracy: 0.5403 - val_loss: 1.1430 - val_accuracy: 0.5603\n",
      "Epoch 17/100\n",
      "225/225 [==============================] - 16s 73ms/step - loss: 1.1978 - accuracy: 0.5433 - val_loss: 1.1313 - val_accuracy: 0.5637\n",
      "Epoch 18/100\n",
      "225/225 [==============================] - 17s 75ms/step - loss: 1.1880 - accuracy: 0.5479 - val_loss: 1.1155 - val_accuracy: 0.5720\n",
      "Epoch 19/100\n",
      "225/225 [==============================] - 17s 74ms/step - loss: 1.1794 - accuracy: 0.5517 - val_loss: 1.1266 - val_accuracy: 0.5653\n",
      "Epoch 20/100\n",
      "225/225 [==============================] - 16s 73ms/step - loss: 1.1685 - accuracy: 0.5612 - val_loss: 1.1018 - val_accuracy: 0.5748\n",
      "Epoch 21/100\n",
      "225/225 [==============================] - 16s 73ms/step - loss: 1.1563 - accuracy: 0.5595 - val_loss: 1.1032 - val_accuracy: 0.5772\n",
      "Epoch 22/100\n",
      "225/225 [==============================] - 17s 73ms/step - loss: 1.1541 - accuracy: 0.5646 - val_loss: 1.0947 - val_accuracy: 0.5745\n",
      "Epoch 23/100\n",
      "225/225 [==============================] - 17s 73ms/step - loss: 1.1427 - accuracy: 0.5695 - val_loss: 1.0989 - val_accuracy: 0.5733\n",
      "Epoch 24/100\n",
      "225/225 [==============================] - 16s 73ms/step - loss: 1.1384 - accuracy: 0.5697 - val_loss: 1.0897 - val_accuracy: 0.5834\n",
      "Epoch 25/100\n",
      "225/225 [==============================] - 17s 74ms/step - loss: 1.1222 - accuracy: 0.5737 - val_loss: 1.0841 - val_accuracy: 0.5837\n",
      "Epoch 26/100\n",
      "225/225 [==============================] - 16s 73ms/step - loss: 1.1107 - accuracy: 0.5814 - val_loss: 1.0748 - val_accuracy: 0.5893\n",
      "Epoch 27/100\n",
      "225/225 [==============================] - 16s 73ms/step - loss: 1.1073 - accuracy: 0.5805 - val_loss: 1.0894 - val_accuracy: 0.5836\n",
      "Epoch 28/100\n",
      "225/225 [==============================] - 16s 73ms/step - loss: 1.0995 - accuracy: 0.5824 - val_loss: 1.0837 - val_accuracy: 0.5886\n",
      "Epoch 29/100\n",
      "225/225 [==============================] - 16s 73ms/step - loss: 1.0913 - accuracy: 0.5885 - val_loss: 1.0691 - val_accuracy: 0.5926\n",
      "Epoch 30/100\n",
      "225/225 [==============================] - 16s 73ms/step - loss: 1.0890 - accuracy: 0.5895 - val_loss: 1.0729 - val_accuracy: 0.5917\n",
      "Epoch 31/100\n",
      "225/225 [==============================] - 16s 73ms/step - loss: 1.0792 - accuracy: 0.5918 - val_loss: 1.0683 - val_accuracy: 0.5917\n",
      "Epoch 32/100\n",
      "225/225 [==============================] - 17s 74ms/step - loss: 1.0762 - accuracy: 0.5927 - val_loss: 1.0734 - val_accuracy: 0.5989\n",
      "Epoch 33/100\n",
      "225/225 [==============================] - 16s 73ms/step - loss: 1.0675 - accuracy: 0.5960 - val_loss: 1.0582 - val_accuracy: 0.5986\n",
      "Epoch 34/100\n",
      "225/225 [==============================] - 16s 73ms/step - loss: 1.0569 - accuracy: 0.6002 - val_loss: 1.0751 - val_accuracy: 0.5887\n",
      "Epoch 35/100\n",
      "225/225 [==============================] - 16s 73ms/step - loss: 1.0562 - accuracy: 0.6011 - val_loss: 1.0571 - val_accuracy: 0.5942\n",
      "Epoch 36/100\n",
      "225/225 [==============================] - 16s 73ms/step - loss: 1.0517 - accuracy: 0.6058 - val_loss: 1.0479 - val_accuracy: 0.6011\n",
      "Epoch 37/100\n",
      "225/225 [==============================] - 16s 73ms/step - loss: 1.0405 - accuracy: 0.6086 - val_loss: 1.0522 - val_accuracy: 0.5975\n",
      "Epoch 38/100\n",
      "225/225 [==============================] - 16s 73ms/step - loss: 1.0308 - accuracy: 0.6111 - val_loss: 1.0462 - val_accuracy: 0.5997\n",
      "Epoch 39/100\n",
      "225/225 [==============================] - 16s 73ms/step - loss: 1.0391 - accuracy: 0.6111 - val_loss: 1.0511 - val_accuracy: 0.6027\n",
      "Epoch 40/100\n",
      "225/225 [==============================] - 16s 73ms/step - loss: 1.0196 - accuracy: 0.6174 - val_loss: 1.0432 - val_accuracy: 0.6035\n",
      "Epoch 41/100\n",
      "225/225 [==============================] - 16s 73ms/step - loss: 1.0197 - accuracy: 0.6182 - val_loss: 1.0452 - val_accuracy: 0.6024\n",
      "Epoch 42/100\n",
      "225/225 [==============================] - 17s 74ms/step - loss: 1.0236 - accuracy: 0.6158 - val_loss: 1.0435 - val_accuracy: 0.6009\n",
      "Epoch 43/100\n",
      "225/225 [==============================] - 16s 73ms/step - loss: 1.0114 - accuracy: 0.6178 - val_loss: 1.0364 - val_accuracy: 0.6082\n",
      "Epoch 44/100\n",
      "225/225 [==============================] - 16s 73ms/step - loss: 0.9994 - accuracy: 0.6265 - val_loss: 1.0427 - val_accuracy: 0.6106\n",
      "Epoch 45/100\n",
      "225/225 [==============================] - 16s 73ms/step - loss: 1.0018 - accuracy: 0.6243 - val_loss: 1.0415 - val_accuracy: 0.6076\n",
      "Epoch 46/100\n",
      "225/225 [==============================] - 16s 73ms/step - loss: 0.9854 - accuracy: 0.6289 - val_loss: 1.0486 - val_accuracy: 0.6057\n",
      "Epoch 47/100\n",
      "225/225 [==============================] - 16s 73ms/step - loss: 0.9915 - accuracy: 0.6268 - val_loss: 1.0390 - val_accuracy: 0.6074\n",
      "Epoch 48/100\n",
      "225/225 [==============================] - 16s 73ms/step - loss: 0.9792 - accuracy: 0.6323 - val_loss: 1.0326 - val_accuracy: 0.6101\n",
      "Epoch 49/100\n",
      "225/225 [==============================] - 16s 73ms/step - loss: 0.9800 - accuracy: 0.6317 - val_loss: 1.0266 - val_accuracy: 0.6120\n",
      "Epoch 50/100\n",
      "225/225 [==============================] - 16s 73ms/step - loss: 0.9838 - accuracy: 0.6311 - val_loss: 1.0237 - val_accuracy: 0.6105\n",
      "Epoch 51/100\n",
      "225/225 [==============================] - 17s 74ms/step - loss: 0.9660 - accuracy: 0.6389 - val_loss: 1.0421 - val_accuracy: 0.6069\n",
      "Epoch 52/100\n",
      "225/225 [==============================] - 28s 125ms/step - loss: 0.9612 - accuracy: 0.6420 - val_loss: 1.0351 - val_accuracy: 0.6066\n",
      "Epoch 53/100\n",
      "225/225 [==============================] - 17s 74ms/step - loss: 0.9576 - accuracy: 0.6437 - val_loss: 1.0324 - val_accuracy: 0.6144\n",
      "Epoch 54/100\n",
      "225/225 [==============================] - 16s 73ms/step - loss: 0.9532 - accuracy: 0.6438 - val_loss: 1.0269 - val_accuracy: 0.6158\n",
      "Epoch 55/100\n",
      "225/225 [==============================] - 17s 73ms/step - loss: 0.9477 - accuracy: 0.6453 - val_loss: 1.0371 - val_accuracy: 0.6117\n",
      "Epoch 56/100\n",
      "225/225 [==============================] - 17s 75ms/step - loss: 0.9475 - accuracy: 0.6456 - val_loss: 1.0249 - val_accuracy: 0.6163\n",
      "Epoch 57/100\n"
     ]
    },
    {
     "name": "stdout",
     "output_type": "stream",
     "text": [
      "225/225 [==============================] - 17s 74ms/step - loss: 0.9321 - accuracy: 0.6515 - val_loss: 1.0232 - val_accuracy: 0.6156\n",
      "Epoch 58/100\n",
      "225/225 [==============================] - 17s 74ms/step - loss: 0.9350 - accuracy: 0.6513 - val_loss: 1.0248 - val_accuracy: 0.6137\n",
      "Epoch 59/100\n",
      "225/225 [==============================] - 17s 74ms/step - loss: 0.9317 - accuracy: 0.6553 - val_loss: 1.0253 - val_accuracy: 0.6130\n",
      "Epoch 60/100\n",
      "225/225 [==============================] - 17s 74ms/step - loss: 0.9126 - accuracy: 0.6582 - val_loss: 1.0203 - val_accuracy: 0.6154\n",
      "Epoch 61/100\n",
      "225/225 [==============================] - 17s 74ms/step - loss: 0.9138 - accuracy: 0.6586 - val_loss: 1.0220 - val_accuracy: 0.6155\n",
      "Epoch 62/100\n",
      "225/225 [==============================] - 17s 74ms/step - loss: 0.9135 - accuracy: 0.6595 - val_loss: 1.0348 - val_accuracy: 0.6144\n",
      "Epoch 63/100\n",
      "225/225 [==============================] - 17s 74ms/step - loss: 0.9107 - accuracy: 0.6633 - val_loss: 1.0320 - val_accuracy: 0.6142\n",
      "Epoch 64/100\n",
      "225/225 [==============================] - 17s 74ms/step - loss: 0.8997 - accuracy: 0.6646 - val_loss: 1.0313 - val_accuracy: 0.6170\n",
      "Epoch 65/100\n",
      "225/225 [==============================] - 17s 73ms/step - loss: 0.8936 - accuracy: 0.6717 - val_loss: 1.0270 - val_accuracy: 0.6199\n",
      "Epoch 66/100\n",
      "225/225 [==============================] - 17s 73ms/step - loss: 0.8919 - accuracy: 0.6696 - val_loss: 1.0333 - val_accuracy: 0.6135\n",
      "Epoch 67/100\n",
      "225/225 [==============================] - 17s 74ms/step - loss: 0.8980 - accuracy: 0.6704 - val_loss: 1.0217 - val_accuracy: 0.6229\n",
      "Epoch 68/100\n",
      "225/225 [==============================] - 17s 74ms/step - loss: 0.8908 - accuracy: 0.6706 - val_loss: 1.0130 - val_accuracy: 0.6236\n",
      "Epoch 69/100\n",
      "225/225 [==============================] - 17s 74ms/step - loss: 0.8766 - accuracy: 0.6751 - val_loss: 1.0262 - val_accuracy: 0.6212\n",
      "Epoch 70/100\n",
      "225/225 [==============================] - 17s 73ms/step - loss: 0.8703 - accuracy: 0.6753 - val_loss: 1.0207 - val_accuracy: 0.6202\n",
      "Epoch 71/100\n",
      "225/225 [==============================] - 17s 74ms/step - loss: 0.8648 - accuracy: 0.6805 - val_loss: 1.0153 - val_accuracy: 0.6248\n",
      "Epoch 72/100\n",
      "225/225 [==============================] - 17s 74ms/step - loss: 0.8738 - accuracy: 0.6765 - val_loss: 1.0269 - val_accuracy: 0.6197\n",
      "Epoch 73/100\n",
      "225/225 [==============================] - 17s 74ms/step - loss: 0.8701 - accuracy: 0.6776 - val_loss: 1.0138 - val_accuracy: 0.6223\n",
      "Epoch 74/100\n",
      "225/225 [==============================] - 17s 74ms/step - loss: 0.8514 - accuracy: 0.6858 - val_loss: 1.0173 - val_accuracy: 0.6186\n",
      "Epoch 75/100\n",
      "225/225 [==============================] - 17s 74ms/step - loss: 0.8476 - accuracy: 0.6857 - val_loss: 1.0185 - val_accuracy: 0.6219\n",
      "Epoch 76/100\n",
      "225/225 [==============================] - 17s 74ms/step - loss: 0.8495 - accuracy: 0.6851 - val_loss: 1.0240 - val_accuracy: 0.6275\n",
      "Epoch 77/100\n",
      "225/225 [==============================] - 17s 74ms/step - loss: 0.8499 - accuracy: 0.6886 - val_loss: 1.0192 - val_accuracy: 0.6264\n",
      "Epoch 78/100\n",
      "225/225 [==============================] - 17s 74ms/step - loss: 0.8390 - accuracy: 0.6903 - val_loss: 1.0234 - val_accuracy: 0.6271\n",
      "Epoch 79/100\n",
      "225/225 [==============================] - 17s 74ms/step - loss: 0.8336 - accuracy: 0.6920 - val_loss: 1.0220 - val_accuracy: 0.6261\n",
      "Epoch 80/100\n",
      "225/225 [==============================] - 17s 74ms/step - loss: 0.8330 - accuracy: 0.6944 - val_loss: 1.0168 - val_accuracy: 0.6269\n",
      "Epoch 81/100\n",
      "225/225 [==============================] - 17s 73ms/step - loss: 0.8338 - accuracy: 0.6925 - val_loss: 1.0153 - val_accuracy: 0.6259\n",
      "Epoch 82/100\n",
      "225/225 [==============================] - 17s 73ms/step - loss: 0.8283 - accuracy: 0.6926 - val_loss: 1.0136 - val_accuracy: 0.6318\n",
      "Epoch 83/100\n",
      "225/225 [==============================] - 17s 73ms/step - loss: 0.8234 - accuracy: 0.6986 - val_loss: 1.0201 - val_accuracy: 0.6258s: 0.8242 - ac\n",
      "Epoch 84/100\n",
      "225/225 [==============================] - 17s 73ms/step - loss: 0.8127 - accuracy: 0.7006 - val_loss: 1.0258 - val_accuracy: 0.6252\n",
      "Epoch 85/100\n",
      "225/225 [==============================] - 17s 73ms/step - loss: 0.8136 - accuracy: 0.7005 - val_loss: 1.0163 - val_accuracy: 0.6247\n",
      "Epoch 86/100\n",
      "225/225 [==============================] - 17s 73ms/step - loss: 0.8022 - accuracy: 0.7052 - val_loss: 1.0175 - val_accuracy: 0.6248\n",
      "Epoch 87/100\n",
      "225/225 [==============================] - 17s 74ms/step - loss: 0.8026 - accuracy: 0.7083 - val_loss: 1.0333 - val_accuracy: 0.6264\n",
      "Epoch 88/100\n",
      "225/225 [==============================] - 17s 74ms/step - loss: 0.8108 - accuracy: 0.7025 - val_loss: 1.0267 - val_accuracy: 0.6257\n",
      "Epoch 89/100\n",
      "225/225 [==============================] - 17s 73ms/step - loss: 0.8022 - accuracy: 0.7067 - val_loss: 1.0235 - val_accuracy: 0.6271\n",
      "Epoch 90/100\n",
      "225/225 [==============================] - 17s 74ms/step - loss: 0.7941 - accuracy: 0.7072 - val_loss: 1.0225 - val_accuracy: 0.6283\n",
      "Epoch 91/100\n",
      "225/225 [==============================] - 17s 74ms/step - loss: 0.7946 - accuracy: 0.7119 - val_loss: 1.0171 - val_accuracy: 0.6276\n",
      "Epoch 92/100\n",
      "225/225 [==============================] - 17s 73ms/step - loss: 0.7854 - accuracy: 0.7128 - val_loss: 1.0311 - val_accuracy: 0.6273\n",
      "Epoch 93/100\n",
      "225/225 [==============================] - 17s 74ms/step - loss: 0.7822 - accuracy: 0.7150 - val_loss: 1.0326 - val_accuracy: 0.6269\n",
      "Epoch 94/100\n",
      "225/225 [==============================] - 17s 74ms/step - loss: 0.7853 - accuracy: 0.7147 - val_loss: 1.0341 - val_accuracy: 0.6180\n",
      "Epoch 95/100\n",
      "225/225 [==============================] - 17s 74ms/step - loss: 0.7712 - accuracy: 0.7224 - val_loss: 1.0264 - val_accuracy: 0.6308\n",
      "Epoch 96/100\n",
      "225/225 [==============================] - 17s 74ms/step - loss: 0.7659 - accuracy: 0.7205 - val_loss: 1.0407 - val_accuracy: 0.6269\n",
      "Epoch 97/100\n",
      "225/225 [==============================] - 17s 74ms/step - loss: 0.7632 - accuracy: 0.7208 - val_loss: 1.0281 - val_accuracy: 0.6296\n",
      "Epoch 98/100\n",
      "225/225 [==============================] - 17s 74ms/step - loss: 0.7594 - accuracy: 0.7225 - val_loss: 1.0348 - val_accuracy: 0.6269\n",
      "Epoch 99/100\n",
      "225/225 [==============================] - 17s 74ms/step - loss: 0.7622 - accuracy: 0.7229 - val_loss: 1.0229 - val_accuracy: 0.6254\n",
      "Epoch 100/100\n",
      "225/225 [==============================] - 17s 74ms/step - loss: 0.7541 - accuracy: 0.7276 - val_loss: 1.0400 - val_accuracy: 0.6219\n"
     ]
    },
    {
     "data": {
      "text/plain": [
       "<keras.callbacks.History at 0x28835123be0>"
      ]
     },
     "execution_count": 28,
     "metadata": {},
     "output_type": "execute_result"
    }
   ],
   "source": [
    "model.fit(x= x_train,y = y_train, batch_size = 128, epochs = 100, validation_data = (x_test,y_test)) "
   ]
  },
  {
   "cell_type": "code",
   "execution_count": 37,
   "id": "2b0f1923",
   "metadata": {},
   "outputs": [
    {
     "name": "stdout",
     "output_type": "stream",
     "text": [
      "WARNING:tensorflow:Compiled the loaded model, but the compiled metrics have yet to be built. `model.compile_metrics` will be empty until you train or evaluate the model.\n"
     ]
    }
   ],
   "source": [
    "model_json = model.to_json()\n",
    "with open(\"emotiondetector.json\",'w') as json_file:\n",
    "    json_file.write(model_json)\n",
    "model.save(\"emotiondetector.keras\")"
   ]
  },
  {
   "cell_type": "code",
   "execution_count": 38,
   "id": "46e2098e",
   "metadata": {},
   "outputs": [],
   "source": [
    "from keras.models import model_from_json"
   ]
  },
  {
   "cell_type": "code",
   "execution_count": 48,
   "id": "90703547",
   "metadata": {},
   "outputs": [],
   "source": [
    "json_file = open(\"facialemotionmodel.json\", \"r\")\n",
    "model_json = json_file.read()\n",
    "json_file.close()\n",
    "model = model_from_json(model_json)\n",
    "model.load_weights(\"facialemotionmodel.h5\")"
   ]
  },
  {
   "cell_type": "code",
   "execution_count": 49,
   "id": "3932bbe8",
   "metadata": {},
   "outputs": [],
   "source": [
    "label = ['angry','disgust','fear','happy','neutral','sad','surprise']"
   ]
  },
  {
   "cell_type": "code",
   "execution_count": 50,
   "id": "b0ccbacf",
   "metadata": {},
   "outputs": [],
   "source": [
    "def ef(image):\n",
    "    img = load_img(image,grayscale =  True )\n",
    "    feature = np.array(img)\n",
    "    feature = feature.reshape(1,48,48,1)\n",
    "    return feature/255.0\n",
    "    "
   ]
  },
  {
   "cell_type": "code",
   "execution_count": 52,
   "id": "5882c78e",
   "metadata": {},
   "outputs": [
    {
     "name": "stdout",
     "output_type": "stream",
     "text": [
      "original image is of sad\n",
      "model prediction is  sad\n"
     ]
    }
   ],
   "source": [
    "image = 'images/test/sad/im4.png'\n",
    "print(\"original image is of sad\")\n",
    "img = ef(image)\n",
    "pred = model.predict(img)\n",
    "pred_label = label[pred.argmax()]\n",
    "print(\"model prediction is \",pred_label)"
   ]
  },
  {
   "cell_type": "code",
   "execution_count": 53,
   "id": "8994206c",
   "metadata": {},
   "outputs": [],
   "source": [
    "import matplotlib.pyplot as plt\n",
    "%matplotlib inline"
   ]
  },
  {
   "cell_type": "code",
   "execution_count": 55,
   "id": "c83af9e1",
   "metadata": {},
   "outputs": [
    {
     "name": "stdout",
     "output_type": "stream",
     "text": [
      "original image is of sad\n",
      "model prediction is  sad\n"
     ]
    },
    {
     "data": {
      "text/plain": [
       "<matplotlib.image.AxesImage at 0x288729fd7b8>"
      ]
     },
     "execution_count": 55,
     "metadata": {},
     "output_type": "execute_result"
    },
    {
     "data": {
      "image/png": "[encoded data removed]",
      "text/plain": [
       "<Figure size 432x288 with 1 Axes>"
      ]
     },
     "metadata": {
      "needs_background": "light"
     },
     "output_type": "display_data"
    }
   ],
   "source": [
    "image = 'images/train/sad/im42.png'\n",
    "print(\"original image is of sad\")\n",
    "img = ef(image)\n",
    "pred = model.predict(img)\n",
    "pred_label = label[pred.argmax()]\n",
    "print(\"model prediction is \",pred_label)\n",
    "plt.imshow(img.reshape(48,48),cmap='gray')"
   ]
  },
  {
   "cell_type": "code",
   "execution_count": 56,
   "id": "5adb7b7a",
   "metadata": {},
   "outputs": [
    {
     "name": "stdout",
     "output_type": "stream",
     "text": [
      "original image is of fear\n",
      "model prediction is  happy\n"
     ]
    },
    {
     "data": {
      "text/plain": [
       "<matplotlib.image.AxesImage at 0x28872acf748>"
      ]
     },
     "execution_count": 56,
     "metadata": {},
     "output_type": "execute_result"
    },
    {
     "data": {
      "image/png": "[encoded data removed]",
      "text/plain": [
       "<Figure size 432x288 with 1 Axes>"
      ]
     },
     "metadata": {
      "needs_background": "light"
     },
     "output_type": "display_data"
    }
   ],
   "source": [
    "image = 'images/train/fear/im59.png'\n",
    "print(\"original image is of fear\")\n",
    "img = ef(image)\n",
    "pred = model.predict(img)\n",
    "pred_label = label[pred.argmax()]\n",
    "print(\"model prediction is \",pred_label)\n",
    "plt.imshow(img.reshape(48,48),cmap='gray')"
   ]
  },
  {
   "cell_type": "code",
   "execution_count": 44,
   "id": "e5ea96ba",
   "metadata": {},
   "outputs": [
    {
     "name": "stdout",
     "output_type": "stream",
     "text": [
      "original image is of disgust\n",
      "1/1 [==============================] - 0s 57ms/step\n",
      "model prediction is  disgust\n"
     ]
    },
    {
     "data": {
      "text/plain": [
       "<matplotlib.image.AxesImage at 0x16abfef4d90>"
      ]
     },
     "execution_count": 44,
     "metadata": {},
     "output_type": "execute_result"
    },
    {
     "data": {
      "image/png": "[encoded data removed]",
      "text/plain": [
       "<Figure size 640x480 with 1 Axes>"
      ]
     },
     "metadata": {},
     "output_type": "display_data"
    }
   ],
   "source": [
    "image = 'images/train/disgust/299.jpg'\n",
    "print(\"original image is of disgust\")\n",
    "img = ef(image)\n",
    "pred = model.predict(img)\n",
    "pred_label = label[pred.argmax()]\n",
    "print(\"model prediction is \",pred_label)\n",
    "plt.imshow(img.reshape(48,48),cmap='gray')"
   ]
  },
  {
   "cell_type": "code",
   "execution_count": 59,
   "id": "1c4befa7",
   "metadata": {},
   "outputs": [
    {
     "name": "stdout",
     "output_type": "stream",
     "text": [
      "original image is of happy\n",
      "model prediction is  happy\n"
     ]
    },
    {
     "data": {
      "text/plain": [
       "<matplotlib.image.AxesImage at 0x28872a75128>"
      ]
     },
     "execution_count": 59,
     "metadata": {},
     "output_type": "execute_result"
    },
    {
     "data": {
      "image/png": "[encoded data removed]",
      "text/plain": [
       "<Figure size 432x288 with 1 Axes>"
      ]
     },
     "metadata": {
      "needs_background": "light"
     },
     "output_type": "display_data"
    }
   ],
   "source": [
    "image = 'images/train/happy/im7.png'\n",
    "print(\"original image is of happy\")\n",
    "img = ef(image)\n",
    "pred = model.predict(img)\n",
    "pred_label = label[pred.argmax()]\n",
    "print(\"model prediction is \",pred_label)\n",
    "plt.imshow(img.reshape(48,48),cmap='gray')"
   ]
  },
  {
   "cell_type": "code",
   "execution_count": 46,
   "id": "8d6bb2fa",
   "metadata": {},
   "outputs": [
    {
     "name": "stdout",
     "output_type": "stream",
     "text": [
      "original image is of surprise\n",
      "1/1 [==============================] - 0s 40ms/step\n",
      "model prediction is  surprise\n"
     ]
    },
    {
     "data": {
      "text/plain": [
       "<matplotlib.image.AxesImage at 0x16abfdd6cb0>"
      ]
     },
     "execution_count": 46,
     "metadata": {},
     "output_type": "execute_result"
    },
    {
     "data": {
      "image/png": "[encoded data removed]",
      "text/plain": [
       "<Figure size 640x480 with 1 Axes>"
      ]
     },
     "metadata": {},
     "output_type": "display_data"
    }
   ],
   "source": [
    "image = 'images/train/surprise/15.jpg'\n",
    "print(\"original image is of surprise\")\n",
    "img = ef(image)\n",
    "pred = model.predict(img)\n",
    "pred_label = label[pred.argmax()]\n",
    "print(\"model prediction is \",pred_label)\n",
    "plt.imshow(img.reshape(48,48),cmap='gray')"
   ]
  },
  {
   "cell_type": "code",
   "execution_count": 63,
   "id": "b005764f",
   "metadata": {},
   "outputs": [
    {
     "name": "stdout",
     "output_type": "stream",
     "text": [
      "225/225 [==============================] - 3s 9ms/step - loss: 0.7956 - accuracy: 0.7168\n",
      "Test Accuracy: 71.68%\n"
     ]
    }
   ],
   "source": [
    "# Assuming you already have test data: X_test, y_test\n",
    "loss, accuracy = model.evaluate(x_test, y_test, verbose=1)\n",
    "print(f\"Test Accuracy: {accuracy * 100:.2f}%\")\n"
   ]
  },
  {
   "cell_type": "code",
   "execution_count": null,
   "id": "1142b61f",
   "metadata": {},
   "outputs": [],
   "source": []
  }
 ],
 "metadata": {
  "kernelspec": {
   "display_name": "Python 3",
   "language": "python",
   "name": "python3"
  },
  "language_info": {
   "codemirror_mode": {
    "name": "ipython",
    "version": 3
   },
   "file_extension": ".py",
   "mimetype": "text/x-python",
   "name": "python",
   "nbconvert_exporter": "python",
   "pygments_lexer": "ipython3",
   "version": "3.6.13"
  }
 },
 "nbformat": 4,
 "nbformat_minor": 5
}
